{
 "cells": [
  {
   "cell_type": "markdown",
   "metadata": {},
   "source": [
    "# Лабораторная работа №8. \n",
    "# Тема: Конкретизация: параметр метода, конструктора и атрибутов. Множественная конкретизация. Конкретизация с ограничениями (операция is).\n",
    "\n",
    "## Дано:\n",
    "\n",
    "## Надо:\n",
    "Реализовать отношение конкретизации.\n",
    "\n",
    "## Как делать?\n",
    "Узнать, что такое конкретизация. Начертить диаграмму и написать код с отношением конкретизации: параметр функции и операции, конструктора и атрибутов. Множественная конкретизация. Конкретизация с ограничениями.\n",
    "\n",
    "\n",
    "![](images/8_img_1.png)\n",
    "\n",
    "Рис. 1. Конкретизация класса Swap\n",
    "\n",
    "**Отношение конкретизации** возникает\n",
    "между объектами, когда класс, выступающий в качестве шаблона (Template) с параметрами, конкретизируется другим\n",
    "классом.\n",
    "\n"
   ]
  },
  {
   "cell_type": "code",
   "execution_count": 1,
   "metadata": {
    "dotnet_interactive": {
     "language": "csharp"
    },
    "vscode": {
     "languageId": "dotnet-interactive.csharp"
    }
   },
   "outputs": [],
   "source": [
    "public interface Interface\n",
    "{\n",
    "    void F();\n",
    "}\n",
    "class Independent : Interface\n",
    "{\n",
    "    public void F() { Console.WriteLine(\"Hello\"); }\n",
    "}\n",
    "class Dep<T> where T : class\n",
    "{\n",
    "        public void F1() { Console.WriteLine(\"Hi\"); }\n",
    "        public Dep(T t) { this.t = t; }\n",
    "        public T t { get; set; }\n",
    "        public void F()\n",
    "        {\n",
    "            Console.WriteLine(t is Interface);\n",
    "            Console.WriteLine(t);\n",
    "            if (t is Interface)\n",
    "            {\n",
    "                Interface ia = (Interface)t;\n",
    "                ia.F();\n",
    "            }\n",
    "        }\n",
    "}\n",
    "class IdAccount<T>\n",
    "{\n",
    "        public IdAccount(T name, int Sum) { this.sum = Sum; this.nameof = name; }\n",
    "        public T nameof;\n",
    "        public int sum;\n",
    "}\n",
    "class Swap<T>\n",
    "{\n",
    "    public void FSwap(ref T x, ref T y)\n",
    "    {\n",
    "        t = x;\n",
    "        x = y;\n",
    "        y = t;\n",
    "    }\n",
    "    public T t;\n",
    "\n",
    "}\n"
   ]
  },
  {
   "cell_type": "code",
   "execution_count": 2,
   "metadata": {
    "dotnet_interactive": {
     "language": "csharp"
    },
    "vscode": {
     "languageId": "dotnet-interactive.csharp"
    }
   },
   "outputs": [
    {
     "name": "stdout",
     "output_type": "stream",
     "text": [
      "x = 8  y = 40\r\n",
      "x = 40  y = 8\r\n",
      "Num 5000\r\n",
      "15954 70000\r\n",
      "True\r\n",
      "Submission#0+Independent\r\n",
      "Hello\r\n"
     ]
    }
   ],
   "source": [
    "Swap<int> swap = new Swap<int>();\n",
    "int x = 8;\n",
    "int y = 40;\n",
    "Console.WriteLine(\"x = {0}  y = {1}\", x, y);\n",
    "swap.FSwap(ref x, ref y);\n",
    "Console.WriteLine(\"x = {0}  y = {1}\", x, y);\n",
    "\n",
    "IdAccount<string> idAccount1 = new IdAccount<string>(\"Num\", 5000);\n",
    "IdAccount<int> idAccount2 = new IdAccount<int>(15954, 70000);\n",
    "\n",
    "Console.WriteLine(\"{0} {1}\", idAccount1.nameof, idAccount1.sum);\n",
    "Console.WriteLine(\"{0} {1}\", idAccount2.nameof, idAccount2.sum);\n",
    "\n",
    "Independent a = new Independent();\n",
    "Dep<Independent> u = new Dep<Independent>(a);\n",
    "u.F();\n"
   ]
  },
  {
   "cell_type": "markdown",
   "metadata": {},
   "source": [
    "## Множественная конкретизация. Операция is"
   ]
  },
  {
   "cell_type": "code",
   "execution_count": 3,
   "metadata": {
    "dotnet_interactive": {
     "language": "csharp"
    },
    "vscode": {
     "languageId": "dotnet-interactive.csharp"
    }
   },
   "outputs": [],
   "source": [
    "class L <T1, T2> where T1: class\n",
    "                 where T2: class\n",
    "     {\n",
    "        public L() {Console.WriteLine(\"Constr L\"); }\n",
    "        public void f1(T1 t1, T2 t2) { Console.WriteLine(\"{0} {1}!\",t1, t2); }\n",
    "     }   "
   ]
  },
  {
   "cell_type": "code",
   "execution_count": 4,
   "metadata": {
    "dotnet_interactive": {
     "language": "csharp"
    },
    "vscode": {
     "languageId": "dotnet-interactive.csharp"
    }
   },
   "outputs": [
    {
     "name": "stdout",
     "output_type": "stream",
     "text": [
      "Constr L\r\n",
      "hello world!\r\n"
     ]
    }
   ],
   "source": [
    "string a = \"hello\";\n",
    "string b = \"world\";\n",
    "L <string, string> lt = new L<string, string>();\n",
    "lt.f1(a, b);"
   ]
  },
  {
   "cell_type": "markdown",
   "metadata": {},
   "source": [
    "## is"
   ]
  },
  {
   "cell_type": "code",
   "execution_count": 5,
   "metadata": {
    "dotnet_interactive": {
     "language": "csharp"
    },
    "vscode": {
     "languageId": "dotnet-interactive.csharp"
    }
   },
   "outputs": [],
   "source": [
    "public interface IA \n",
    "    {\n",
    "        void F();\n",
    "    }\n",
    "\n",
    "class D : IA \n",
    "    {\n",
    "        public void F() { Console.WriteLine(\"Realize function F() in D\"); } \n",
    "    }"
   ]
  },
  {
   "cell_type": "code",
   "execution_count": 6,
   "metadata": {
    "dotnet_interactive": {
     "language": "csharp"
    },
    "vscode": {
     "languageId": "dotnet-interactive.csharp"
    }
   },
   "outputs": [],
   "source": [
    "class U<T> where T: class\n",
    "{\n",
    "    public U(T t) { this.t = t; Console.WriteLine(\"Constr U\"); }\n",
    "    public void F1() { Console.WriteLine(\"Hi\"); }\n",
    "    public void F() \n",
    "    {\n",
    "    Console.WriteLine(t is IA);\n",
    "    Console.WriteLine($\"Name of object : {t}\");\n",
    "    if (t is IA) \n",
    "    {\n",
    "        IA ia = (IA)t;\n",
    "        ia.F();\n",
    "    }\n",
    "    else Console.WriteLine(\"False\");\n",
    "    }\n",
    "    public T t {set; get; }\n",
    "}"
   ]
  },
  {
   "cell_type": "code",
   "execution_count": 7,
   "metadata": {
    "dotnet_interactive": {
     "language": "csharp"
    },
    "vscode": {
     "languageId": "dotnet-interactive.csharp"
    }
   },
   "outputs": [
    {
     "name": "stdout",
     "output_type": "stream",
     "text": [
      "Constr U\r\n",
      "True\r\n",
      "Name of object : Submission#4+D\r\n",
      "Realize function F() in D\r\n"
     ]
    }
   ],
   "source": [
    "D d = new D();\n",
    "U <IA> ia = new U<IA>(d);\n",
    "ia.F()"
   ]
  }
 ],
 "metadata": {
  "kernelspec": {
   "display_name": ".NET (C#)",
   "language": "C#",
   "name": ".net-csharp"
  },
  "language_info": {
   "file_extension": ".cs",
   "mimetype": "text/x-csharp",
   "name": "C#",
   "pygments_lexer": "csharp",
   "version": "9.0"
  },
  "orig_nbformat": 4,
  "vscode": {
   "interpreter": {
    "hash": "c2df80c539aa84d79e6d707b064cb8197eeb4b858bd4ed4f9278cfa227ec00a4"
   }
  }
 },
 "nbformat": 4,
 "nbformat_minor": 2
}
