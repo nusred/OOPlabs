{
 "cells": [
  {
   "cell_type": "markdown",
   "metadata": {},
   "source": [
    "# Лабораторная работа №0. \n",
    "# Тема: Перегрузка: constructor, operation, function, operator\n",
    "\n",
    "\n",
    "## Дано: \n",
    "\n",
    "Граф в виде древовидной иерархической структуры\n",
    "\n",
    "![](images/0.png)\n",
    "\n",
    "## Надо:\n",
    "Перегрузить конструктор, операцию, функцию, оператор.\n",
    "## Как делать? \n",
    "Узнать, что такое конструктор, операция, функция, оператор, перегрузка.\n",
    "\n",
    "**Класс** – обобщение множество объектов. Атрибуты классов обеспечивают поведение(данные и функции), которое наследуется всеми объектами, сгенерированными из них.\n",
    "\n",
    "**Экземпляры** - конкретные элементы сгенерированные классом. Атрибуты экземпляров хранят данные, которые варьируются для каждого отдельного объекта.\n",
    "\n",
    "**Атрибут** – свойство характеристики данного объекта.\n",
    "\n",
    "**Перегрузка (функций, операций, операторов)** - методы в программе (названные одинаково) с разной семантикой.\n",
    "\n",
    "**Перегрузка конструкторов** - конструкторы с одинаковым именем, но разной семантикой."
   ]
  },
  {
   "cell_type": "code",
   "execution_count": 1,
   "metadata": {
    "dotnet_interactive": {
     "language": "csharp"
    },
    "vscode": {
     "languageId": "dotnet-interactive.csharp"
    }
   },
   "outputs": [],
   "source": [
    "public class Computer\n",
    "    {\n",
    "        public string name;\n",
    "        public int size;\n",
    "        public int type;\n",
    "        public Computer()\n",
    "        {\n",
    "            Console.WriteLine(\"Это пустой конструктор\");\n",
    "        }\n",
    "        public Computer(string name, int size, int type)\n",
    "        {\n",
    "            this.name = name;\n",
    "            this.size = size;\n",
    "            this.type = type;\n",
    "            Console.WriteLine(\"Это конструктор - {0} размера {1} типа {2}\", name, size, type);\n",
    "        }\n",
    "        public static Computer operator +(Computer C1, Computer C2)\n",
    "        {\n",
    "            string name = C1.name + C2.name;\n",
    "            int size = C1.size + C2.size;\n",
    "            int type = C1.type + C2.type;\n",
    "            Computer C3 = new Computer(name, size, type);\n",
    "            return C3;\n",
    "            //return new Computer {  return new (C1.name + C2.name, C1.size + C2.size, C1.type + C2.type) };\n",
    "        }\n",
    "\n",
    "        public static int printValue(int number)\n",
    "        {\n",
    "            return number;\n",
    "        }\n",
    "        public static string printValue(string s)\n",
    "        {\n",
    "            return s;\n",
    "        }\n",
    "}"
   ]
  },
  {
   "cell_type": "code",
   "execution_count": 2,
   "metadata": {
    "dotnet_interactive": {
     "language": "csharp"
    },
    "vscode": {
     "languageId": "dotnet-interactive.csharp"
    }
   },
   "outputs": [
    {
     "name": "stdout",
     "output_type": "stream",
     "text": [
      "Hello World\r\n",
      "Это пустой конструктор\r\n",
      "Это конструктор - laptop размера 100 типа 0\r\n",
      "Это конструктор - desktop размера 200 типа 1\r\n",
      "Это конструктор - laptopdesktop размера 300 типа 1\r\n",
      "Это сумма двух. Его имя = laptopdesktop, Размер = 300, Тип = 1\r\n",
      "300\r\n",
      "laptopdesktop\r\n"
     ]
    }
   ],
   "source": [
    "Console.WriteLine(\"Hello World\");\n",
    "            Computer PC = new Computer();\n",
    "            Computer laptop = new Computer(name: \"laptop\", size: 100, type: 0);\n",
    "            Computer Desktop = new Computer(name: \"desktop\", size: 200, type: 1);\n",
    "            Computer SUM = laptop + Desktop;\n",
    "            Console.WriteLine(\"Это сумма двух. Его имя = {0}, Размер = {1}, Тип = {2}\", SUM.name, SUM.size, SUM.type);\n",
    "            int SizePC = Computer.printValue(SUM.size);\n",
    "            string NamePC = Computer.printValue(SUM.name);\n",
    "            Console.WriteLine(SizePC);\n",
    "            Console.WriteLine(NamePC);\n",
    "            //Console.WriteLine(Computer.printValue(SUM.size), Computer.printValue(SUM.name));\n"
   ]
  }
 ],
 "metadata": {
  "kernelspec": {
   "display_name": ".NET (C#)",
   "language": "C#",
   "name": ".net-csharp"
  },
  "language_info": {
   "file_extension": ".cs",
   "mimetype": "text/x-csharp",
   "name": "C#",
   "pygments_lexer": "csharp",
   "version": "9.0"
  },
  "orig_nbformat": 4
 },
 "nbformat": 4,
 "nbformat_minor": 2
}
