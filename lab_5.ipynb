{
 "cells": [
  {
   "cell_type": "markdown",
   "metadata": {},
   "source": [
    "## Лабораторная работа №5\n",
    "\n",
    "### Тема: Наследование: комбинирование через общих предков\n",
    "\n",
    "## Дано: \n",
    "\n",
    "![](Images/5_graph.png)\n",
    "\n",
    "Граф в виде древовидной иерархической структуры\n",
    "\n",
    "## Надо:\n",
    "Сделать комбинирование через общих предков\n",
    "## Как делать? \n",
    "Выделить в графе \"ромб\", где два класса наследуются от общего предка, а подклас этих классов наследует их черты, тем самым реализуя множественное наследование.\n",
    "\n",
    "![](Images/5_img_2.png)\n",
    "\n",
    "Рис 1. Категория наследования: комбинирование через общих предков."
   ]
  },
  {
   "cell_type": "markdown",
   "metadata": {},
   "source": [
    "## Объявление общего предка"
   ]
  },
  {
   "cell_type": "code",
   "execution_count": 10,
   "metadata": {
    "dotnet_interactive": {
     "language": "csharp"
    },
    "vscode": {
     "languageId": "dotnet-interactive.csharp"
    }
   },
   "outputs": [],
   "source": [
    "public interface A\n",
    "{\n",
    "    void mA();\n",
    "    int fA();\n",
    "}"
   ]
  },
  {
   "cell_type": "code",
   "execution_count": 11,
   "metadata": {
    "dotnet_interactive": {
     "language": "csharp"
    },
    "vscode": {
     "languageId": "dotnet-interactive.csharp"
    }
   },
   "outputs": [],
   "source": [
    "public interface C : A {\n",
    "    void mC();\n",
    "    int fC();\n",
    "}"
   ]
  },
  {
   "cell_type": "code",
   "execution_count": 12,
   "metadata": {
    "dotnet_interactive": {
     "language": "csharp"
    },
    "vscode": {
     "languageId": "dotnet-interactive.csharp"
    }
   },
   "outputs": [],
   "source": [
    "public class B : A {\n",
    "    public B() { Console.WriteLine(\"Constr B\"); this.b = 10; }\n",
    "    public B(int b) { this.b = b; Console.WriteLine(\" Constructor_1 B b\"); }\n",
    "    ~B() { Console.WriteLine(\"~Destr B\"); }\n",
    "\n",
    "    public virtual void mA() { Console.WriteLine(\"Method declared in A, uses in B\");}\n",
    "    public virtual int fA() { Console.WriteLine(\"Function declared in A, uses in B\"); return b; }\n",
    "\n",
    "    public virtual void mB() { Console.WriteLine(\"Methon in B\"); }\n",
    "    public virtual int fB()  { Console.WriteLine(\"Function of B\"); return b + 20; }\n",
    "\n",
    "    public int b { get; set; }\n",
    "}"
   ]
  },
  {
   "cell_type": "markdown",
   "metadata": {},
   "source": [
    "## Реализация множественного наследования"
   ]
  },
  {
   "cell_type": "code",
   "execution_count": 13,
   "metadata": {
    "dotnet_interactive": {
     "language": "csharp"
    },
    "vscode": {
     "languageId": "dotnet-interactive.csharp"
    }
   },
   "outputs": [],
   "source": [
    "public class E : B, C {\n",
    "\n",
    "    public E() { Console.WriteLine(\"Constr E\"); this.a = 30; }\n",
    "    public E(int a) : base(a)\n",
    "    {\n",
    "        this.a = a;\n",
    "        this.b = a + 100;\n",
    "        Console.WriteLine(\" constructor_1 E e\");\n",
    "    }\n",
    "    ~E() { Console.WriteLine(\"~Destr E\"); }\n",
    "\n",
    "    public void mC() { Console.WriteLine(\"Method declared in C, uses in E\"); }\n",
    "    public int fC() { Console.WriteLine(\"Function declared in C, uses in E\"); return a; }\n",
    "\n",
    "    public override void mB() { Console.WriteLine(\"Method declared in B, uses in E\"); }\n",
    "    public override int fB() { Console.WriteLine(\"Function declared in B, uses in E\"); return a * 2; }\n",
    "\n",
    "    public override int fA() { Console.WriteLine(\"Method declared in A, uses in E\"); return a + 100 + b; }\n",
    "    public override void mA() { Console.WriteLine(\"Function declared in A, uses in E\"); }\n",
    "\n",
    "    public int a { get; set; }\n",
    "    \n",
    "}"
   ]
  },
  {
   "cell_type": "code",
   "execution_count": 14,
   "metadata": {
    "dotnet_interactive": {
     "language": "csharp"
    },
    "vscode": {
     "languageId": "dotnet-interactive.csharp"
    }
   },
   "outputs": [
    {
     "name": "stdout",
     "output_type": "stream",
     "text": [
      "Constr B\r\n",
      "Method declared in A, uses in B\r\n",
      "Function declared in A, uses in B\r\n"
     ]
    }
   ],
   "source": [
    "A a = new B();\n",
    "a.mA();\n",
    "a.fA();"
   ]
  },
  {
   "cell_type": "code",
   "execution_count": 15,
   "metadata": {
    "dotnet_interactive": {
     "language": "csharp"
    },
    "vscode": {
     "languageId": "dotnet-interactive.csharp"
    }
   },
   "outputs": [
    {
     "name": "stdout",
     "output_type": "stream",
     "text": [
      "Constr B\r\n",
      "Constr E\r\n",
      "Method declared in A, uses in E\r\n",
      " a.Fa() = 140\r\n",
      " Constructor_1 B b\r\n",
      " constructor_1 E e\r\n",
      "Method declared in A, uses in E\r\n",
      " a.Fa() = 220\r\n"
     ]
    }
   ],
   "source": [
    "a = new E();\n",
    "Console.WriteLine(\" a.Fa() = {0}\", a.fA());\n",
    "\n",
    "a = new E(10);\n",
    "Console.WriteLine(\" a.Fa() = {0}\", a.fA());\n"
   ]
  },
  {
   "cell_type": "code",
   "execution_count": 16,
   "metadata": {
    "dotnet_interactive": {
     "language": "csharp"
    },
    "vscode": {
     "languageId": "dotnet-interactive.csharp"
    }
   },
   "outputs": [
    {
     "name": "stdout",
     "output_type": "stream",
     "text": [
      "Constr B\r\n",
      "Constr E\r\n",
      "Function declared in C, uses in E\r\n"
     ]
    }
   ],
   "source": [
    "C c = new E();\n",
    "\n",
    "c.fC();"
   ]
  },
  {
   "cell_type": "code",
   "execution_count": 17,
   "metadata": {
    "dotnet_interactive": {
     "language": "csharp"
    },
    "vscode": {
     "languageId": "dotnet-interactive.csharp"
    }
   },
   "outputs": [
    {
     "name": "stdout",
     "output_type": "stream",
     "text": [
      "Constr B\r\n",
      "Constr E\r\n",
      "Function declared in A, uses in E\r\n",
      "Method declared in A, uses in E\r\n"
     ]
    }
   ],
   "source": [
    "E e = new E();\n",
    "\n",
    "e.mA();\n",
    "e.fA();"
   ]
  },
  {
   "cell_type": "markdown",
   "metadata": {},
   "source": [
    "# Вывод: \n",
    "Комбинирование через общих предков позволяет реализовать множественное наследование через общий суперкласс; комбинирует в себе два класса с общим суперклассом"
   ]
  }
 ],
 "metadata": {
  "kernelspec": {
   "display_name": ".NET (C#)",
   "language": "C#",
   "name": ".net-csharp"
  },
  "language_info": {
   "file_extension": ".cs",
   "mimetype": "text/x-csharp",
   "name": "C#",
   "pygments_lexer": "csharp",
   "version": "9.0"
  },
  "orig_nbformat": 4
 },
 "nbformat": 4,
 "nbformat_minor": 2
}
