{
 "cells": [
  {
   "cell_type": "markdown",
   "metadata": {},
   "source": [
    "# Лабораторная работа №9.\n",
    "# Тема: АНОНИМНЫЕ ФУНКЦИИ: сигнатура функций (delegate), ЛЯМБДА ВЫРАЖЕНИЕ (=>). Событие (event)\n",
    "\n",
    "\n",
    "## Дано:\n",
    "\n",
    "## Надо:\n",
    "Реализовать анонимные выражения, создание их с помощью конструктора, с помощью подстановки, выполнение множества функций одним методом.\n",
    "\n",
    "## Как делать?\n",
    "![](Img/9_Graph.png)\n",
    "\n",
    "**Delegate** - указатель на методы, у которых совпадает сигнатура. \\\n",
    "**Сигнатура** - тип возвращаемого значения, аргументы. \\\n",
    "**События** -  позволяют сигнализируют системе о том, что произошло определенное действие\n",
    "**Обработчик события** – это метод, который выполняет некоторые действия в программе, в случае если событие произошло(сгенерировалось).\n",
    "\n",
    "Объявление делегата - объявление сигнатуры\n",
    "\n",
    "Делегаты можно объявлять в классах или вне - глобально:\n",
    "\n",
    "Action - группа делегатов, которые не возвращают значение, но принимают от 0 до 16 возможных аргументов\n",
    "Т.е. action - заготовка делегата, в целях сокращения кода\n",
    "\n",
    "*public delegate void Action();*\n",
    "Action <имя> = Method1;\n",
    "<имя>();\n",
    "\n",
    "*public delegate void Action(int i, int j, string l);*\n",
    "Action<int, int, string> = Method1;\n",
    "\n",
    "Predicate<int> - группа делегатов, который возвращает булевое значение и принимает 1 аргумент\n",
    "\n",
    "*public delegate bool Predicate(int value)*\n",
    "Predicate<int> predicate;\n",
    "\n",
    "Func<> - группа делегатов, который должен возвращать одно значение и принимает до 16 аргументов (даже 0)\n",
    "\n",
    "*public delegate int funс(string j)*\n",
    "Func<string, int> func;\n",
    "\n",
    "*public delegate int funk()*\n",
    "Func<int> func;\n",
    "\n",
    "*public delegate int funс(string j, char c)*\n",
    "Func<string, char, int> func;\n",
    "\n",
    "События\n",
    "\n",
    "Событие объявляются внутри класса\n",
    "Событие объявляется вместе с делегатом - шаблоном обработчика\n",
    "На это событие сможет отреагировать только метод, соотвествующий делегату\n"
   ]
  },
  {
   "cell_type": "markdown",
   "metadata": {},
   "source": [
    "## Делегаты"
   ]
  },
  {
   "cell_type": "code",
   "execution_count": 1,
   "metadata": {
    "dotnet_interactive": {
     "language": "csharp"
    },
    "vscode": {
     "languageId": "dotnet-interactive.csharp"
    }
   },
   "outputs": [],
   "source": [
    "public delegate int A(int x, int y);\n",
    "public delegate void B();"
   ]
  },
  {
   "cell_type": "code",
   "execution_count": 2,
   "metadata": {
    "dotnet_interactive": {
     "language": "csharp"
    },
    "vscode": {
     "languageId": "dotnet-interactive.csharp"
    }
   },
   "outputs": [
    {
     "name": "stdout",
     "output_type": "stream",
     "text": [
      "B b = delegate()\r\n"
     ]
    }
   ],
   "source": [
    "B b = delegate() { Console.WriteLine(\"B b = delegate()\"); };\n",
    "b()"
   ]
  },
  {
   "cell_type": "code",
   "execution_count": 3,
   "metadata": {
    "dotnet_interactive": {
     "language": "csharp"
    },
    "vscode": {
     "languageId": "dotnet-interactive.csharp"
    }
   },
   "outputs": [],
   "source": [
    "int Add(int x, int y) { Console.WriteLine(\"Add\"); return x + y; }\n",
    "int Mult(int x, int y) { Console.WriteLine(\"Mult\"); return x * y; }"
   ]
  },
  {
   "cell_type": "code",
   "execution_count": 4,
   "metadata": {
    "dotnet_interactive": {
     "language": "csharp"
    },
    "vscode": {
     "languageId": "dotnet-interactive.csharp"
    }
   },
   "outputs": [
    {
     "name": "stdout",
     "output_type": "stream",
     "text": [
      "A a1 = new A(add)\r\n",
      "Add\r\n",
      "Use method a1(2, 3) 5\r\n",
      "Use method a2(2, 3) 5\r\n"
     ]
    }
   ],
   "source": [
    "Console.WriteLine(\"A a1 = new A(add)\");\n",
    "A a1 = new A(Add);\n",
    "Console.WriteLine($\"Use method a1(2, 3) {a1(2,3)}\");\n",
    "\n",
    "A a2 = (x1, x2) => x1 + x2;\n",
    "Console.WriteLine($\"Use method a2(2, 3) {a2(2,3)}\");"
   ]
  },
  {
   "cell_type": "code",
   "execution_count": 5,
   "metadata": {
    "dotnet_interactive": {
     "language": "csharp"
    },
    "vscode": {
     "languageId": "dotnet-interactive.csharp"
    }
   },
   "outputs": [
    {
     "name": "stdout",
     "output_type": "stream",
     "text": [
      "Add\r\n",
      "Use method a(2, 3) 5\r\n"
     ]
    }
   ],
   "source": [
    "A a = null;\n",
    "a = Add;\n",
    "Console.WriteLine($\"Use method a(2, 3) {a(2,3)}\")"
   ]
  },
  {
   "cell_type": "code",
   "execution_count": 6,
   "metadata": {
    "dotnet_interactive": {
     "language": "csharp"
    },
    "vscode": {
     "languageId": "dotnet-interactive.csharp"
    }
   },
   "outputs": [
    {
     "name": "stdout",
     "output_type": "stream",
     "text": [
      "Add\r\n",
      "Use method Add(2, 3) 5\r\n"
     ]
    }
   ],
   "source": [
    "Console.WriteLine($\"Use method Add(2, 3) {Add(2,3)}\")"
   ]
  },
  {
   "cell_type": "code",
   "execution_count": 7,
   "metadata": {
    "dotnet_interactive": {
     "language": "csharp"
    },
    "vscode": {
     "languageId": "dotnet-interactive.csharp"
    }
   },
   "outputs": [
    {
     "name": "stdout",
     "output_type": "stream",
     "text": [
      "use x%y b(3, 2) 1\r\n"
     ]
    }
   ],
   "source": [
    "A b = delegate (int x, int y) { return x%y; };\n",
    "Console.WriteLine($\"use x%y b(3, 2) {b(3,2)}\");"
   ]
  },
  {
   "cell_type": "code",
   "execution_count": 8,
   "metadata": {
    "dotnet_interactive": {
     "language": "csharp"
    },
    "vscode": {
     "languageId": "dotnet-interactive.csharp"
    }
   },
   "outputs": [
    {
     "name": "stdout",
     "output_type": "stream",
     "text": [
      "use x%y b(3, 2) 6\r\n"
     ]
    }
   ],
   "source": [
    "A b = delegate (int x, int y) { return x*y; };\n",
    "Console.WriteLine($\"use x%y b(3, 2) {b(3,2)}\");"
   ]
  },
  {
   "cell_type": "code",
   "execution_count": 9,
   "metadata": {
    "dotnet_interactive": {
     "language": "csharp"
    },
    "vscode": {
     "languageId": "dotnet-interactive.csharp"
    }
   },
   "outputs": [],
   "source": [
    "public void v1() { Console.WriteLine(\"V1\"); }\n",
    "public void v2() { Console.WriteLine(\"V2\"); }"
   ]
  },
  {
   "cell_type": "code",
   "execution_count": 10,
   "metadata": {
    "dotnet_interactive": {
     "language": "csharp"
    },
    "vscode": {
     "languageId": "dotnet-interactive.csharp"
    }
   },
   "outputs": [
    {
     "name": "stdout",
     "output_type": "stream",
     "text": [
      "V1\r\n",
      "Use increment methods v1 & v2\r\n",
      "V1\r\n",
      "V2\r\n",
      "Use increment. Del v1\r\n",
      "V2\r\n"
     ]
    }
   ],
   "source": [
    "B e1 = v1;\n",
    "e1();\n",
    "e1 += v2;\n",
    "Console.WriteLine(\"Use increment methods v1 & v2\");\n",
    "e1();\n",
    "Console.WriteLine(\"Use increment. Del v1\");\n",
    "e1 -= v1;\n",
    "e1();"
   ]
  },
  {
   "cell_type": "code",
   "execution_count": 11,
   "metadata": {
    "dotnet_interactive": {
     "language": "csharp"
    },
    "vscode": {
     "languageId": "dotnet-interactive.csharp"
    }
   },
   "outputs": [
    {
     "name": "stdout",
     "output_type": "stream",
     "text": [
      "Add\r\n",
      "5\r\n",
      "Add\r\n",
      "Mult\r\n",
      "Use increment methods Add & Mult 6\r\n",
      "Mult\r\n",
      "Use increment methods. Del Add 6\r\n"
     ]
    }
   ],
   "source": [
    "A v = Add;\n",
    "Console.WriteLine(v(2, 3));\n",
    "v += Mult;\n",
    "Console.WriteLine($\"Use increment methods Add & Mult {v(2, 3)}\");\n",
    "v -= Add;\n",
    "Console.WriteLine($\"Use increment methods. Del Add {v(2, 3)}\");\n"
   ]
  },
  {
   "cell_type": "code",
   "execution_count": 12,
   "metadata": {
    "dotnet_interactive": {
     "language": "csharp"
    },
    "vscode": {
     "languageId": "dotnet-interactive.csharp"
    }
   },
   "outputs": [],
   "source": [
    "public void Multicast(A a, int x, int y)\n",
    "{\n",
    "    int result = a(x, y);\n",
    "    Console.WriteLine(\"Multicast = {0}\", result);\n",
    "}\n"
   ]
  },
  {
   "cell_type": "code",
   "execution_count": 13,
   "metadata": {
    "dotnet_interactive": {
     "language": "csharp"
    },
    "vscode": {
     "languageId": "dotnet-interactive.csharp"
    }
   },
   "outputs": [
    {
     "name": "stdout",
     "output_type": "stream",
     "text": [
      "Add\r\n",
      "Multicast = 5\r\n"
     ]
    }
   ],
   "source": [
    "A a = new A(Add);\n",
    "Multicast(a, 2, 3);"
   ]
  },
  {
   "cell_type": "code",
   "execution_count": 14,
   "metadata": {
    "dotnet_interactive": {
     "language": "csharp"
    },
    "vscode": {
     "languageId": "dotnet-interactive.csharp"
    }
   },
   "outputs": [],
   "source": [
    "delegate int Lambda(int x, int y);\n",
    "delegate void Lambda_OP();"
   ]
  },
  {
   "cell_type": "code",
   "execution_count": 24,
   "metadata": {
    "dotnet_interactive": {
     "language": "csharp"
    },
    "vscode": {
     "languageId": "dotnet-interactive.csharp"
    }
   },
   "outputs": [
    {
     "name": "stdout",
     "output_type": "stream",
     "text": [
      " lambda(54, 52) =  2\r\n",
      " Labda_OP has been used (!)\r\n",
      " Labda_OP has been used (!)\r\n",
      " Labda_OP has been used (!)\r\n",
      "1 + 2 = 3\r\n",
      "32 + -1 = 31\r\n"
     ]
    }
   ],
   "source": [
    "Lambda l = (x, y) => x - y;\n",
    "Console.WriteLine(\" lambda(54, 52) =  {0}\", l(54, 52));\n",
    "Lambda_OP lop = () => Console.WriteLine(\" Labda_OP has been used (!)\");\n",
    "lop();\n",
    "lop();\n",
    "lop();\n",
    "\n",
    "Operation l1 = (x,y) => Console.WriteLine($\"{x} + {y} = {x + y}\");\n",
    "l1(1, 2);\n",
    "l1(32, -1);\n",
    "delegate void Operation(int x, int y);"
   ]
  },
  {
   "cell_type": "code",
   "execution_count": 16,
   "metadata": {
    "dotnet_interactive": {
     "language": "csharp"
    },
    "vscode": {
     "languageId": "dotnet-interactive.csharp"
    }
   },
   "outputs": [
    {
     "name": "stdout",
     "output_type": "stream",
     "text": [
      "25\r\n"
     ]
    }
   ],
   "source": [
    "Func<int, int> square = (s) => s*s;\n",
    "Console.WriteLine($\"{square(5)}\");"
   ]
  },
  {
   "cell_type": "markdown",
   "metadata": {},
   "source": [
    "## События"
   ]
  },
  {
   "cell_type": "code",
   "execution_count": 17,
   "metadata": {
    "dotnet_interactive": {
     "language": "csharp"
    },
    "vscode": {
     "languageId": "dotnet-interactive.csharp"
    }
   },
   "outputs": [],
   "source": [
    "public class Message : EventArgs\n",
    "{\n",
    "    public string mess { set; get; } //атрибут доступа для сообщений\n",
    "\n",
    "    public Message(string message)\n",
    "    {\n",
    "        mess = message;\n",
    "    }\n",
    "}"
   ]
  },
  {
   "cell_type": "code",
   "execution_count": 18,
   "metadata": {
    "dotnet_interactive": {
     "language": "csharp"
    },
    "vscode": {
     "languageId": "dotnet-interactive.csharp"
    }
   },
   "outputs": [],
   "source": [
    "public class Publisher\n",
    "    {\n",
    "        public Publisher() { }\n",
    "\n",
    "        public delegate void PublisherEventHanler(Message message); // обработчик событий\n",
    "        public delegate void EventHandler(Object sender, EventArgs args); //\n",
    "\n",
    "        public event PublisherEventHanler Changed;\n",
    "\n",
    "        public void EventForPublisher(Message message)\n",
    "        {\n",
    "            Console.WriteLine(\" Event for all subscribers {0}\", message.mess);\n",
    "            Changed(message);\n",
    "        }\n",
    "\n",
    "        public void Ewraping(PublisherEventHanler Change)\n",
    "        {\n",
    "            Changed(new Message(\"Ewraping\"));\n",
    "        }\n",
    "    }"
   ]
  },
  {
   "cell_type": "code",
   "execution_count": 19,
   "metadata": {
    "dotnet_interactive": {
     "language": "csharp"
    },
    "vscode": {
     "languageId": "dotnet-interactive.csharp"
    }
   },
   "outputs": [],
   "source": [
    "public class Subscriber\n",
    "{\n",
    "    int Code { set; get; }\n",
    "\n",
    "    public Subscriber(int code)\n",
    "    {\n",
    "        Code = code;\n",
    "    }\n",
    "\n",
    "    public void subscribe(Message message) //+= операция для подписки\n",
    "    {\n",
    "        Console.WriteLine(\" Subscriber {0}  {1}\", this.Code, message.mess);\n",
    "    }\n",
    "}\n"
   ]
  },
  {
   "cell_type": "code",
   "execution_count": 20,
   "metadata": {
    "dotnet_interactive": {
     "language": "csharp"
    },
    "vscode": {
     "languageId": "dotnet-interactive.csharp"
    }
   },
   "outputs": [],
   "source": [
    "Publisher publisher = new Publisher();\n",
    "Subscriber sub1 = new Subscriber(1);\n",
    "Subscriber sub2 = new Subscriber(2);\n",
    "Subscriber sub3 = new Subscriber(3);\n",
    "Subscriber subn = new Subscriber(4);\n",
    "publisher.Changed += sub1.subscribe;\n",
    "publisher.Changed += sub2.subscribe;\n",
    "publisher.Changed += sub3.subscribe;\n",
    "publisher.Changed += subn.subscribe;"
   ]
  },
  {
   "cell_type": "code",
   "execution_count": 21,
   "metadata": {
    "dotnet_interactive": {
     "language": "csharp"
    },
    "vscode": {
     "languageId": "dotnet-interactive.csharp"
    }
   },
   "outputs": [
    {
     "name": "stdout",
     "output_type": "stream",
     "text": [
      " Event for all subscribers subscribed (!)\r\n",
      " Subscriber 1  subscribed (!)\r\n",
      " Subscriber 2  subscribed (!)\r\n",
      " Subscriber 3  subscribed (!)\r\n",
      " Subscriber 4  subscribed (!)\r\n"
     ]
    }
   ],
   "source": [
    "publisher.EventForPublisher(new Message(\"subscribed (!)\"));"
   ]
  }
 ],
 "metadata": {
  "kernelspec": {
   "display_name": ".NET (C#)",
   "language": "C#",
   "name": ".net-csharp"
  },
  "language_info": {
   "file_extension": ".cs",
   "mimetype": "text/x-csharp",
   "name": "C#",
   "pygments_lexer": "csharp",
   "version": "9.0"
  },
  "orig_nbformat": 4
 },
 "nbformat": 4,
 "nbformat_minor": 2
}
