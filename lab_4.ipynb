{
 "cells": [
  {
   "cell_type": "markdown",
   "metadata": {},
   "source": [
    "## Лабораторная работа №4\n",
    "\n",
    "### Тема: Наследование: расширение, спецификация, специализация, конструирование, комбинирование\n",
    "\n",
    "### Дано:\n",
    "Граф в виде древовидной иерархической структуры\n",
    "\n",
    "![](Images/4_graph.png)\n",
    "\n",
    "### Надо:\n",
    "Рассмотреть в проекте отношения наследования: расширения, спецификации, специализации и конструирования, предварительно выделив их на графе.\n",
    "\n",
    "**Наследование**\n",
    "Наследование является одним из фундаментальных атрибутов ООП. Оно позвояет определить подкласс, который использует (наследует), расширяет или изменяет возможности суперкласса.\n",
    "\n",
    "C# и .NET поддерживает только одиночное наследование. Это означает, что каждый класс может наследовать члены только одного класса, но зато поддерживается транзитивное наследование.\n",
    "\n",
    "Форму наследования можно считать правильной, если между суперклассом и подклассом имеется отношение \"тип−подтип\" ,т.е. выполняется принцип подстановки\n",
    "\n",
    "**Форма наследования Расширение:**\n",
    "- Подкласс добавляет новые функциональные возможности к суперклассу, но не меняет наследуемое поведение\n",
    "- В отличие от обобщения или специализации при расширении подкласс не переопределяет ни одного метода суперкласса, а добавленные методы слабо связаны с существующими методами суперкласса\n",
    "\n",
    "**Форма наследования Спецификация:**\n",
    "- Суперкласс описывает поведение, которое реализуется в подклассе классе, но оставлено нереализованным в суперклассе\n",
    "- В таких случаях суперкласс класс называют абстрактно-специфицированным классом\n",
    "\n",
    "**Форма наследования Специализация:**\n",
    "- Подкласс является более конкретным, частным или специализированным случаем суперкласса\n",
    "- Подкласс удовлетворяет спецификациям родителя во всех существенных моментах, т.е. его можно использовать вместо суперкласса\n",
    "- Поведение суперкласса класса, в основном, переопределяется\n",
    "\n",
    "**Форма наследования Конструирование:**\n",
    "- Подкласс использует методы, предопределяемые суперклассом\n",
    "- Между подклассами и суперклассами отсутствует отношение «is-a» или «быть экземпляром», то-есть подкласс не является более специализированной формой суперкласса\n",
    "- Подкласс часто изменяет не только имена методов суперкласса, но и аргументы\n",
    "\n",
    "![](Images/4_diag_class_1.png)\n",
    "\n",
    "Рис.1 Диаграмма наследования"
   ]
  },
  {
   "cell_type": "markdown",
   "metadata": {},
   "source": [
    "## Спецификация(интерфейс)\n",
    "Происходит создание интерфейса или же некоторого абстрактного класса, в котором заложены абстрактные методы, реализация которых происходит только в подклассах."
   ]
  },
  {
   "cell_type": "code",
   "execution_count": 23,
   "metadata": {
    "dotnet_interactive": {
     "language": "csharp"
    },
    "vscode": {
     "languageId": "dotnet-interactive.csharp"
    }
   },
   "outputs": [],
   "source": [
    "public interface A{\n",
    "    void methodA();\n",
    "    int funcA();\n",
    "}"
   ]
  },
  {
   "cell_type": "code",
   "execution_count": 24,
   "metadata": {
    "dotnet_interactive": {
     "language": "csharp"
    },
    "vscode": {
     "languageId": "dotnet-interactive.csharp"
    }
   },
   "outputs": [],
   "source": [
    "public class B : A {\n",
    "    public B(){ Console.WriteLine(\"const B\");}\n",
    "\n",
    "    ~B(){Console.WriteLine(\"destr B\");}\n",
    "\n",
    "    public virtual void methodA() {Console.WriteLine(\"Метод methodA интерфейса А в классе В\");}\n",
    "\n",
    "    public virtual int funcA(){\n",
    "        //this.b += 1;\n",
    "        return 1;\n",
    "    }\n",
    "\n",
    "    public virtual int funcB() {return 1;}\n",
    "    public virtual void methodB() {Console.WriteLine(\"Метод methodB класса В\");}\n",
    "\n",
    "    protected int b{set;get;}\n",
    "    public int b1{get;set;}\n",
    "}"
   ]
  },
  {
   "cell_type": "code",
   "execution_count": 25,
   "metadata": {
    "dotnet_interactive": {
     "language": "csharp"
    },
    "vscode": {
     "languageId": "dotnet-interactive.csharp"
    }
   },
   "outputs": [
    {
     "name": "stdout",
     "output_type": "stream",
     "text": [
      "const B\r\n",
      "Метод methodA интерфейса А в классе В\r\n",
      "1\r\n"
     ]
    }
   ],
   "source": [
    "A a = new B();\n",
    "a.methodA();\n",
    "Console.WriteLine(a.funcA());\n",
    "//((B)a).methodB();"
   ]
  },
  {
   "cell_type": "code",
   "execution_count": 26,
   "metadata": {
    "dotnet_interactive": {
     "language": "csharp"
    },
    "vscode": {
     "languageId": "dotnet-interactive.csharp"
    }
   },
   "outputs": [],
   "source": [
    "public class C : A{\n",
    "    public C(){ Console.WriteLine(\"const C\");}\n",
    "\n",
    "    ~C(){Console.WriteLine(\"destr C\");}\n",
    "\n",
    "    public virtual void methodA() {Console.WriteLine(\"Метод methodA интерфейса А в классе С\");}\n",
    "    \n",
    "    public int funcA(){\n",
    "        //this.c += 10;\n",
    "        return 10;\n",
    "    }\n",
    "\n",
    "    public virtual int funcC() {return 10;}\n",
    "    public virtual void methodC() {Console.WriteLine(\"Метод methodC класса C\");}\n",
    "\n",
    "    protected int c{set;get;}\n",
    "    public int c1{get;set;}\n",
    "}"
   ]
  },
  {
   "cell_type": "code",
   "execution_count": 27,
   "metadata": {
    "dotnet_interactive": {
     "language": "csharp"
    },
    "vscode": {
     "languageId": "dotnet-interactive.csharp"
    }
   },
   "outputs": [
    {
     "name": "stdout",
     "output_type": "stream",
     "text": [
      "const C\r\n",
      "Метод methodA интерфейса А в классе С\r\n",
      "10\r\n"
     ]
    }
   ],
   "source": [
    "a = new C();\n",
    "a.methodA();\n",
    "Console.WriteLine(a.funcA());"
   ]
  },
  {
   "cell_type": "code",
   "execution_count": 28,
   "metadata": {
    "dotnet_interactive": {
     "language": "csharp"
    },
    "vscode": {
     "languageId": "dotnet-interactive.csharp"
    }
   },
   "outputs": [],
   "source": [
    "public class J : A{\n",
    "    public J(){ Console.WriteLine(\"const J\");}\n",
    "\n",
    "    ~J(){Console.WriteLine(\"destr J\");}\n",
    "\n",
    "    public void methodA() {Console.WriteLine(\"Метод methodA интерфейса А в классе J\");}\n",
    "    \n",
    "    public int funcA(){\n",
    "        this.j += 100;\n",
    "        return j;\n",
    "    }\n",
    "\n",
    "    public virtual int funcJ() {return 100;}\n",
    "    public virtual void methodJ() {Console.WriteLine(\"Метод methodJ класса J\");}\n",
    "\n",
    "    protected int j{set;get;}\n",
    "    public int j1{get;set;}\n",
    "}"
   ]
  },
  {
   "cell_type": "code",
   "execution_count": 29,
   "metadata": {
    "dotnet_interactive": {
     "language": "csharp"
    },
    "vscode": {
     "languageId": "dotnet-interactive.csharp"
    }
   },
   "outputs": [
    {
     "name": "stdout",
     "output_type": "stream",
     "text": [
      "const J\r\n",
      "Метод methodA интерфейса А в классе J\r\n",
      "100\r\n"
     ]
    }
   ],
   "source": [
    "a = new J();\n",
    "a.methodA();\n",
    "Console.WriteLine(a.funcA());"
   ]
  },
  {
   "cell_type": "markdown",
   "metadata": {},
   "source": [
    "## Расширение\n",
    "В подобъект добавляются новые свойства и замещается по крайней мере один метод объекта суперкласса."
   ]
  },
  {
   "cell_type": "code",
   "execution_count": 30,
   "metadata": {
    "dotnet_interactive": {
     "language": "csharp"
    },
    "vscode": {
     "languageId": "dotnet-interactive.csharp"
    }
   },
   "outputs": [],
   "source": [
    "public class E : C{\n",
    "    public E()\n",
    "        {\n",
    "            Console.WriteLine(\"const E\");\n",
    "            this.e1 = 100;\n",
    "            this.e2 = 200;\n",
    "        }\n",
    "\n",
    "        public override int funcC()// замещение\n",
    "        {\n",
    "            Console.WriteLine(\"Метод класса C в классе E.\");\n",
    "            return this.e1 * this.e2 + base.funcC();\n",
    "        }\n",
    "\n",
    "        ~E() { Console.WriteLine(\"destr E\"); }\n",
    "\n",
    "        public int funcE()// новый метод \n",
    "        {\n",
    "            Console.WriteLine(\"Метод класса E\");\n",
    "            return this.e1 + this.e2;\n",
    "        }\n",
    "        \n",
    "        public override void methodC() { Console.WriteLine(\"метод methodC в классе E\"); }\n",
    "\n",
    "        public int e1 { get; set; }\n",
    "        public int e2 { get; set; }\n",
    "\n",
    "}"
   ]
  },
  {
   "cell_type": "markdown",
   "metadata": {},
   "source": [
    "## Расширение по функции"
   ]
  },
  {
   "cell_type": "code",
   "execution_count": 31,
   "metadata": {
    "dotnet_interactive": {
     "language": "csharp"
    },
    "vscode": {
     "languageId": "dotnet-interactive.csharp"
    }
   },
   "outputs": [
    {
     "name": "stdout",
     "output_type": "stream",
     "text": [
      "const C\r\n",
      "const E\r\n",
      "метод methodC в классе E\r\n",
      "Метод класса C в классе E.\r\n",
      "20010\r\n",
      "Метод класса E\r\n",
      "300\r\n"
     ]
    }
   ],
   "source": [
    "a = new E();\n",
    "((E)a).methodC();\n",
    "Console.WriteLine(((E)a).funcC());\n",
    "Console.WriteLine(((E)a).funcE());"
   ]
  },
  {
   "cell_type": "markdown",
   "metadata": {},
   "source": [
    "## Расширение по аргументу"
   ]
  },
  {
   "cell_type": "code",
   "execution_count": 32,
   "metadata": {
    "dotnet_interactive": {
     "language": "csharp"
    },
    "vscode": {
     "languageId": "dotnet-interactive.csharp"
    }
   },
   "outputs": [
    {
     "name": "stdout",
     "output_type": "stream",
     "text": [
      "const C\r\n",
      "const E\r\n",
      "100\r\n",
      "200\r\n"
     ]
    }
   ],
   "source": [
    "a = new E();\n",
    "Console.WriteLine(((E)a).e1);\n",
    "Console.WriteLine(((E)a).e2);\n"
   ]
  },
  {
   "cell_type": "markdown",
   "metadata": {},
   "source": [
    "## Конструирование"
   ]
  },
  {
   "cell_type": "markdown",
   "metadata": {},
   "source": [
    "В подклассе изменяются имена методов, предоставляемые суперклассом, или модифицируются аргументы, объекты подкласса не являются подтипом суперкласса."
   ]
  },
  {
   "cell_type": "code",
   "execution_count": 33,
   "metadata": {
    "dotnet_interactive": {
     "language": "csharp"
    },
    "vscode": {
     "languageId": "dotnet-interactive.csharp"
    }
   },
   "outputs": [],
   "source": [
    "public class K : B{\n",
    "    public K() {Console.WriteLine(\"const K\"); this.k = 888;}\n",
    "\n",
    "    ~K() {Console.WriteLine(\"destr K\");}\n",
    "\n",
    "    public override void methodA() {Console.WriteLine(k);}\n",
    "\n",
    "    public int k {set;get;}\n",
    "}"
   ]
  },
  {
   "cell_type": "code",
   "execution_count": 34,
   "metadata": {
    "dotnet_interactive": {
     "language": "csharp"
    },
    "vscode": {
     "languageId": "dotnet-interactive.csharp"
    }
   },
   "outputs": [],
   "source": [
    "public class F : C{\n",
    "    public F() {Console.WriteLine(\"const F\"); this.f = 888;}\n",
    "\n",
    "    ~F() {Console.WriteLine(\"destr F\");}\n",
    "\n",
    "    public override void methodA() {Console.WriteLine(f);}\n",
    "\n",
    "    public int f {set;get;}\n",
    "}"
   ]
  },
  {
   "cell_type": "code",
   "execution_count": 35,
   "metadata": {
    "dotnet_interactive": {
     "language": "csharp"
    },
    "vscode": {
     "languageId": "dotnet-interactive.csharp"
    }
   },
   "outputs": [
    {
     "name": "stdout",
     "output_type": "stream",
     "text": [
      "const B\r\n",
      "const K\r\n",
      "888\r\n"
     ]
    }
   ],
   "source": [
    "a = new K();\n",
    "a.methodA();"
   ]
  },
  {
   "cell_type": "code",
   "execution_count": 36,
   "metadata": {
    "dotnet_interactive": {
     "language": "csharp"
    },
    "vscode": {
     "languageId": "dotnet-interactive.csharp"
    }
   },
   "outputs": [
    {
     "name": "stdout",
     "output_type": "stream",
     "text": [
      "const C\r\n",
      "const F\r\n",
      "888\r\n"
     ]
    }
   ],
   "source": [
    "a = new F();\n",
    "a.methodA();"
   ]
  },
  {
   "cell_type": "markdown",
   "metadata": {},
   "source": [
    "## Специализация\n"
   ]
  },
  {
   "cell_type": "markdown",
   "metadata": {},
   "source": [
    "\n",
    "Объект подкласса является более конкретным, частным или специализированным случаем для объекта суперкласса. То есть при наследование происходит изменение некоторого метода на какую-то другую конкретную цель.\n"
   ]
  },
  {
   "cell_type": "code",
   "execution_count": 37,
   "metadata": {
    "dotnet_interactive": {
     "language": "csharp"
    },
    "vscode": {
     "languageId": "dotnet-interactive.csharp"
    }
   },
   "outputs": [],
   "source": [
    "public class D : B{\n",
    "    \n",
    "    public D() {Console.WriteLine(\"const D\");}\n",
    "\n",
    "    ~D(){Console.WriteLine(\"destr D\");}\n",
    "\n",
    "    public override int funcA() { return 120; }\n",
    "    \n",
    "    public override void methodA()\n",
    "    {\n",
    "        Console.WriteLine($\"class: {GetType().Name}\");\n",
    "    }\n",
    "}"
   ]
  },
  {
   "cell_type": "code",
   "execution_count": 38,
   "metadata": {
    "dotnet_interactive": {
     "language": "csharp"
    },
    "vscode": {
     "languageId": "dotnet-interactive.csharp"
    }
   },
   "outputs": [
    {
     "name": "stdout",
     "output_type": "stream",
     "text": [
      "const B\r\n",
      "const D\r\n",
      "class: D\r\n",
      "120\r\n"
     ]
    }
   ],
   "source": [
    "a = new D();\n",
    "a.methodA();\n",
    "Console.WriteLine(((D)a).funcA());\n"
   ]
  },
  {
   "cell_type": "markdown",
   "metadata": {},
   "source": [
    "## Вторая часть кода\n",
    "\n",
    "### Дано:\n",
    "Граф в виде древовидной иерархической структуры\n",
    "\n",
    "### Надо:\n",
    "Надо сделать так, чтобы А наследовало комбинированием B, C, J, где С и B - интерфейсы, что показано на диаграмме ниже:\n",
    "\n",
    "![](Images/4_diag_nasl.jpg)\n",
    "\n",
    "Рис 2. Диаграмма Наследования.\n",
    "\n",
    "Ограничение. Комбинировать можем только множество абстрактных/интерфейс классов и один другого типа!"
   ]
  },
  {
   "cell_type": "markdown",
   "metadata": {},
   "source": [
    "## Комбинирование"
   ]
  },
  {
   "cell_type": "code",
   "execution_count": 39,
   "metadata": {
    "dotnet_interactive": {
     "language": "csharp"
    },
    "vscode": {
     "languageId": "dotnet-interactive.csharp"
    }
   },
   "outputs": [],
   "source": [
    "interface B{\n",
    "    void methodB();\n",
    "    int funcB();\n",
    "}"
   ]
  },
  {
   "cell_type": "code",
   "execution_count": 40,
   "metadata": {
    "dotnet_interactive": {
     "language": "csharp"
    },
    "vscode": {
     "languageId": "dotnet-interactive.csharp"
    }
   },
   "outputs": [],
   "source": [
    "interface C{\n",
    "    void methodC();\n",
    "    int funcC();\n",
    "}"
   ]
  },
  {
   "cell_type": "code",
   "execution_count": 41,
   "metadata": {
    "dotnet_interactive": {
     "language": "csharp"
    },
    "vscode": {
     "languageId": "dotnet-interactive.csharp"
    }
   },
   "outputs": [],
   "source": [
    "public class J{\n",
    "    public J() {Console.WriteLine(\"const J\");}\n",
    "    \n",
    "    ~J() {Console.WriteLine(\"destr J\");}\n",
    "\n",
    "    public virtual int j_value() {return j;}\n",
    "\n",
    "    public int j {get;set;}\n",
    "}"
   ]
  },
  {
   "cell_type": "code",
   "execution_count": 42,
   "metadata": {
    "dotnet_interactive": {
     "language": "csharp"
    },
    "vscode": {
     "languageId": "dotnet-interactive.csharp"
    }
   },
   "outputs": [],
   "source": [
    "public class A : J, B, C{\n",
    "    public A(){\n",
    "        Console.WriteLine(\"const A\");\n",
    "        this.a1 = 20;\n",
    "        this.a2 = 50;\n",
    "        this.j1 = j / 2;\n",
    "    }\n",
    "    ~A() {Console.WriteLine(\"destr A\");}\n",
    "\n",
    "    public void methodB(){Console.WriteLine(\"Метод интерфейса В в классе А\");}\n",
    "    public int funcB() {return a1;}\n",
    "\n",
    "    public void methodC(){Console.WriteLine(\"Метод интерфейса C в классе А\");}\n",
    "    public int funcC() {return a2;}\n",
    "\n",
    "    public override int j_value(){return j;}\n",
    "\n",
    "    public int a1 {set;get;}\n",
    "    public int a2 {set;get;}\n",
    "    public int j1 {set;get;}\n",
    "}"
   ]
  },
  {
   "cell_type": "code",
   "execution_count": 43,
   "metadata": {
    "dotnet_interactive": {
     "language": "csharp"
    },
    "vscode": {
     "languageId": "dotnet-interactive.csharp"
    }
   },
   "outputs": [
    {
     "name": "stdout",
     "output_type": "stream",
     "text": [
      "const J\r\n",
      "const A\r\n",
      "Метод интерфейса В в классе А\r\n",
      "20\r\n"
     ]
    }
   ],
   "source": [
    "A obj = new A();\n",
    "obj.methodB();\n",
    "Console.WriteLine(obj.funcB());"
   ]
  },
  {
   "cell_type": "code",
   "execution_count": 44,
   "metadata": {
    "dotnet_interactive": {
     "language": "csharp"
    },
    "vscode": {
     "languageId": "dotnet-interactive.csharp"
    }
   },
   "outputs": [
    {
     "name": "stdout",
     "output_type": "stream",
     "text": [
      "const J\r\n",
      "const A\r\n",
      "Метод интерфейса C в классе А\r\n",
      "50\r\n",
      "20\r\n",
      "50\r\n"
     ]
    }
   ],
   "source": [
    "obj = new A();\n",
    "obj.methodC();\n",
    "Console.WriteLine(obj.funcC());\n",
    "int value1 = obj.funcB();\n",
    "int value2 = obj.funcC();\n",
    "Console.WriteLine(value1);\n",
    "Console.WriteLine(value2);"
   ]
  }
 ],
 "metadata": {
  "kernelspec": {
   "display_name": ".NET (C#)",
   "language": "C#",
   "name": ".net-csharp"
  },
  "language_info": {
   "file_extension": ".cs",
   "mimetype": "text/x-csharp",
   "name": "C#",
   "pygments_lexer": "csharp",
   "version": "9.0"
  },
  "orig_nbformat": 4,
  "vscode": {
   "interpreter": {
    "hash": "c2df80c539aa84d79e6d707b064cb8197eeb4b858bd4ed4f9278cfa227ec00a4"
   }
  }
 },
 "nbformat": 4,
 "nbformat_minor": 2
}
