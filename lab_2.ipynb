{
 "cells": [
  {
   "cell_type": "markdown",
   "metadata": {},
   "source": [
    "# Лабораторная работа №2. \n",
    "# Тема: Агрегациям по значению и вложением\n",
    "\n",
    "## Дано: \n",
    "\n",
    "Граф в виде древовидной иерархической структуры\n",
    "\n",
    "![](images/2_1.png)\n",
    "\n",
    "## Надо:\n",
    "Реализовать агрегацию по значению и вложению.\n",
    "\n",
    "## Как делать? \n",
    "Начертить диаграммы классов: агрегации по значению и вложению.\n",
    "\n",
    "![](images/2_2.png)\n",
    "\n",
    "Рис 1. Диаграмма классов: агрегация по значению \n",
    "\n",
    "![](images/2_3.png)\n",
    "\n",
    "Рис 2. Диаграмма вызова конструкторов класса."
   ]
  },
  {
   "cell_type": "markdown",
   "metadata": {},
   "source": [
    "## Агрегация по значению\n",
    "\n",
    "### Классы снизу вверх из-за Jupyter"
   ]
  },
  {
   "cell_type": "code",
   "execution_count": 1,
   "metadata": {
    "dotnet_interactive": {
     "language": "csharp"
    },
    "vscode": {
     "languageId": "dotnet-interactive.csharp"
    }
   },
   "outputs": [],
   "source": [
    "class J\n",
    "{\n",
    "        public J() { }\n",
    "        ~J() { }\n",
    "        public void mJ() { Console.WriteLine(\"method of J\"); }\n",
    "}\n"
   ]
  },
  {
   "cell_type": "code",
   "execution_count": 2,
   "metadata": {
    "dotnet_interactive": {
     "language": "csharp"
    },
    "vscode": {
     "languageId": "dotnet-interactive.csharp"
    }
   },
   "outputs": [],
   "source": [
    "class F\n",
    "    {\n",
    "        public F() { }\n",
    "        ~F() { }\n",
    "        public void mF() { Console.WriteLine(\"method of F\"); }\n",
    "    }\n"
   ]
  },
  {
   "cell_type": "code",
   "execution_count": 3,
   "metadata": {
    "dotnet_interactive": {
     "language": "csharp"
    },
    "vscode": {
     "languageId": "dotnet-interactive.csharp"
    }
   },
   "outputs": [],
   "source": [
    "class E\n",
    "    {\n",
    "        public E() { }\n",
    "        ~E() { }\n",
    "        public void mE() { Console.WriteLine(\"method of E\"); }\n",
    "    }\n"
   ]
  },
  {
   "cell_type": "code",
   "execution_count": 4,
   "metadata": {
    "dotnet_interactive": {
     "language": "csharp"
    },
    "vscode": {
     "languageId": "dotnet-interactive.csharp"
    }
   },
   "outputs": [],
   "source": [
    "class D\n",
    "    {\n",
    "        public D() { }\n",
    "        ~D() { }\n",
    "        public void mD() { Console.WriteLine(\"method of D\"); }\n",
    "    }\n"
   ]
  },
  {
   "cell_type": "code",
   "execution_count": 5,
   "metadata": {
    "dotnet_interactive": {
     "language": "csharp"
    },
    "vscode": {
     "languageId": "dotnet-interactive.csharp"
    }
   },
   "outputs": [],
   "source": [
    "class K\n",
    "    {\n",
    "        public K() { }\n",
    "\n",
    "        ~K() { }\n",
    "\n",
    "        public void mK() { Console.WriteLine(\"method of K\"); }\n",
    "    }\n"
   ]
  },
  {
   "cell_type": "code",
   "execution_count": 6,
   "metadata": {
    "dotnet_interactive": {
     "language": "csharp"
    },
    "vscode": {
     "languageId": "dotnet-interactive.csharp"
    }
   },
   "outputs": [],
   "source": [
    "class C\n",
    "    {\n",
    "        private E e = new E();\n",
    "        private F f = new F();\n",
    "        public int c1 { get; set; }\n",
    "\n",
    "        public C() { }\n",
    "        ~C() { }\n",
    "\n",
    "        public E eC { get { Console.Write(\" get e -> \"); return e; } }\n",
    "        public F fC { get { Console.Write(\" get f -> \"); return f; } }\n",
    "\n",
    "        public void mC() { Console.WriteLine(\"method of C\"); }\n",
    "    }\n"
   ]
  },
  {
   "cell_type": "code",
   "execution_count": 7,
   "metadata": {
    "dotnet_interactive": {
     "language": "csharp"
    },
    "vscode": {
     "languageId": "dotnet-interactive.csharp"
    }
   },
   "outputs": [],
   "source": [
    "class B\n",
    "{\n",
    "  private K k = new K();\n",
    "  private D d = new D();\n",
    "\n",
    "  public B() { }\n",
    "\n",
    "  ~B() { }\n",
    "\n",
    "  public K kB { get { Console.Write(\" get k -> \"); return k; } }\n",
    "  public D dB { get { Console.Write(\" get d -> \"); return d; } }\n",
    "\n",
    "  public void mB() { Console.WriteLine(\"method of B\"); }\n",
    "}"
   ]
  },
  {
   "cell_type": "code",
   "execution_count": 8,
   "metadata": {
    "dotnet_interactive": {
     "language": "csharp"
    },
    "vscode": {
     "languageId": "dotnet-interactive.csharp"
    }
   },
   "outputs": [],
   "source": [
    "class A\n",
    "    {\n",
    "        private B b = new B();\n",
    "        private C c = new C();\n",
    "        private J j = new J();\n",
    "\n",
    "        public A() { }\n",
    "\n",
    "        ~A() { }\n",
    "\n",
    "        public B bA { get { Console.Write(\" get b -> \"); return b; } }\n",
    "        public C cA { get { Console.Write(\" get c -> \"); return c; } }\n",
    "        public J jA { get { Console.Write(\" get j -> \"); return j; } }\n",
    "\n",
    "        public void mA() { Console.WriteLine(\"method of A\"); }\n",
    "}"
   ]
  },
  {
   "cell_type": "code",
   "execution_count": 9,
   "metadata": {
    "dotnet_interactive": {
     "language": "csharp"
    },
    "vscode": {
     "languageId": "dotnet-interactive.csharp"
    }
   },
   "outputs": [
    {
     "name": "stdout",
     "output_type": "stream",
     "text": [
      "method of A\r\n",
      " get b -> method of B\r\n",
      " get c -> method of C\r\n",
      " get j -> method of J\r\n",
      " get b ->  get d -> method of D\r\n",
      " get b ->  get k -> method of K\r\n",
      " get c ->  get e -> method of E\r\n",
      " get c ->  get f -> method of F\r\n"
     ]
    }
   ],
   "source": [
    "A a = new A();\n",
    "a.mA();\n",
    "a.bA.mB();\n",
    "a.cA.mC();\n",
    "a.jA.mJ();\n",
    "a.bA.dB.mD();\n",
    "a.bA.kB.mK();\n",
    "a.cA.eC.mE();\n",
    "a.cA.fC.mF();"
   ]
  },
  {
   "cell_type": "markdown",
   "metadata": {},
   "source": [
    "## Агрегация вложением\n",
    "\n",
    "![](images/2_4.png)"
   ]
  },
  {
   "cell_type": "code",
   "execution_count": 10,
   "metadata": {
    "dotnet_interactive": {
     "language": "csharp"
    },
    "vscode": {
     "languageId": "dotnet-interactive.csharp"
    }
   },
   "outputs": [],
   "source": [
    "class A\n",
    "        {\n",
    "            public A()\n",
    "            {\n",
    "                Console.WriteLine(\"Вариант №4\");\n",
    "            }\n",
    "            public class B\n",
    "            {\n",
    "                public class K\n",
    "                {\n",
    "                    public void mK() { Console.WriteLine(\"method of K\"); }\n",
    "                }\n",
    "                public class D\n",
    "                {\n",
    "                    public void mD() { Console.WriteLine(\"method of D\"); }\n",
    "                }\n",
    "                public void mB() { Console.WriteLine(\"method of B\"); }\n",
    "\n",
    "                public K kA { get { Console.Write(\"get k -> \"); return k; } }\n",
    "                public D dA { get { Console.Write(\"get d -> \"); return d; } }\n",
    "\n",
    "                private K k = new K();\n",
    "                private D d = new D();\n",
    "\n",
    "            }\n",
    "\n",
    "            public class C\n",
    "            {\n",
    "                public class E\n",
    "                {\n",
    "                    public void mE() { Console.WriteLine(\"method of E\"); }\n",
    "                }\n",
    "                public class F\n",
    "                {\n",
    "                    public void mF() { Console.WriteLine(\"method of F\"); }\n",
    "                }\n",
    "                public void mC() { Console.WriteLine(\"method of C\"); }\n",
    "                public E eA { get { Console.Write(\"get e -> \"); return e; } }\n",
    "                public F fA { get { Console.Write(\"get f -> \"); return f; } }\n",
    "\n",
    "                private E e = new E();\n",
    "                private F f = new F();\n",
    "            }\n",
    "            public class J\n",
    "            {\n",
    "                public void mJ() { Console.WriteLine(\"method of J\"); }\n",
    "            }\n",
    "            public void mA() { Console.WriteLine(\"method of A\"); }\n",
    "\n",
    "            public B bA { get { Console.Write(\"get b -> \"); return b; } }\n",
    "            public C cA { get { Console.Write(\"get c -> \"); return c; } }\n",
    "            public J jA { get { Console.Write(\"get j -> \"); return j; } }\n",
    "\n",
    "            private B b = new B();\n",
    "            private C c = new C();\n",
    "            private J j = new J();\n",
    "        }"
   ]
  },
  {
   "cell_type": "code",
   "execution_count": 11,
   "metadata": {
    "dotnet_interactive": {
     "language": "csharp"
    },
    "vscode": {
     "languageId": "dotnet-interactive.csharp"
    }
   },
   "outputs": [
    {
     "name": "stdout",
     "output_type": "stream",
     "text": [
      "Вариант №4\r\n",
      "method of A\r\n",
      "get b -> method of B\r\n",
      "get c -> method of C\r\n",
      "get j -> method of J\r\n",
      "get b -> get k -> method of K\r\n",
      "get b -> get d -> method of D\r\n",
      "get c -> get e -> method of E\r\n",
      "get c -> get f -> method of F\r\n"
     ]
    }
   ],
   "source": [
    "A a = new A();\n",
    "\n",
    "            a.mA();\n",
    "\n",
    "            a.bA.mB();\n",
    "            a.cA.mC();\n",
    "            a.jA.mJ();\n",
    "\n",
    "            a.bA.kA.mK();\n",
    "            a.bA.dA.mD();\n",
    "\n",
    "            a.cA.eA.mE();\n",
    "            a.cA.fA.mF();"
   ]
  }
 ],
 "metadata": {
  "kernelspec": {
   "display_name": ".NET (C#)",
   "language": "C#",
   "name": ".net-csharp"
  },
  "language_info": {
   "file_extension": ".cs",
   "mimetype": "text/x-csharp",
   "name": "C#",
   "pygments_lexer": "csharp",
   "version": "9.0"
  },
  "orig_nbformat": 4,
  "vscode": {
   "interpreter": {
    "hash": "c2df80c539aa84d79e6d707b064cb8197eeb4b858bd4ed4f9278cfa227ec00a4"
   }
  }
 },
 "nbformat": 4,
 "nbformat_minor": 2
}
