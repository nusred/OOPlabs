{
 "cells": [
  {
   "cell_type": "code",
   "execution_count": 26,
   "metadata": {
    "dotnet_interactive": {
     "language": "csharp"
    },
    "vscode": {
     "languageId": "dotnet-interactive.csharp"
    }
   },
   "outputs": [],
   "source": [
    "using System;\n",
    "using System.Diagnostics;"
   ]
  },
  {
   "cell_type": "markdown",
   "metadata": {},
   "source": [
    "# Лабораторная работа №3. принцип подстановки и замещения.\n",
    "\n",
    "**Дано:** Граф в виде древовидной иерархической структуры\n",
    "\n",
    "![Диаграмма наследования объектов](images/3_1.png)\n",
    "\n",
    "**Надо:** Выделить три вершины из данного графа, представить их в виде иерархии общее-частное, используя механизм наследования.\n",
    "\n",
    "**Выполнить:** Построить диаграмму классов, опираясь на нее пишем код. Рисуем диаграмму наследования объектов.\n",
    "\n",
    "**Отношение между объектами:** наследование"
   ]
  },
  {
   "cell_type": "markdown",
   "metadata": {},
   "source": [
    "![Диаграмма наследования объектов](images/3_2.png)\n",
    "Рис 1. Диаграмма наследования объектов.\n"
   ]
  },
  {
   "cell_type": "markdown",
   "metadata": {},
   "source": [
    "**Принцип подстановки:** вместо объекта суперкласса можно подставить объект подкласса.\n",
    "\n",
    "**Принцип замещения:** функцию суперкласса можно заменить функцией подкласса.\n",
    "\n",
    "**Блок** - часть программы(в фиг скобках), содержащие локальные объекты, которые не видны извне.\n",
    "\n",
    "**Утечка памяти**- A a = new A();\n",
    "                     a = new B();\n",
    "Ссылка на new A теряется, далее ее удалит сборщик мусора.\n",
    "\n",
    "**Создание**- конструктор, **разрушение** - деструктор.\n",
    "\n",
    "При необходимости сделать метод доступным для переопределения в наследуемом классе, используем virtual"
   ]
  },
  {
   "cell_type": "markdown",
   "metadata": {},
   "source": [
    "![Диаграмма наследования объектов](images/3_3.png)\n",
    "Рис 2. Диаграмма объектов."
   ]
  },
  {
   "cell_type": "code",
   "execution_count": 27,
   "metadata": {
    "dotnet_interactive": {
     "language": "csharp"
    },
    "vscode": {
     "languageId": "dotnet-interactive.csharp"
    }
   },
   "outputs": [],
   "source": [
    "class A\n",
    "{\n",
    "    public A()\n",
    "    {\n",
    "        Console.WriteLine(\"Constructor A\");\n",
    "        this.varA = 5;\n",
    "    }\n",
    "\n",
    "    ~A() { Trace.WriteLine(\"Destructor A\"); }\n",
    "\n",
    "    public virtual int MethodA()\n",
    "    {\n",
    "        Console.WriteLine(\"MethodA in class A\");\n",
    "        return this.varA + this.varA;\n",
    "    }\n",
    "    \n",
    "    public void get_type() \n",
    "    {\n",
    "        string desc = this.GetType().ToString();\n",
    "        Console.WriteLine(desc);\n",
    "    }\n",
    "\n",
    "    protected int varA { get; set; }\n",
    "}"
   ]
  },
  {
   "cell_type": "code",
   "execution_count": 28,
   "metadata": {
    "dotnet_interactive": {
     "language": "csharp"
    },
    "vscode": {
     "languageId": "dotnet-interactive.csharp"
    }
   },
   "outputs": [],
   "source": [
    "class B : A\n",
    "{\n",
    "    public B()\n",
    "    {\n",
    "        Console.WriteLine(\"Constructor B\");\n",
    "        this.varB = 20;\n",
    "    }\n",
    "    \n",
    "    ~B() { Trace.WriteLine(\"Destructor of B\"); }\n",
    "\n",
    "    public override int MethodA()\n",
    "    {\n",
    "        Console.WriteLine(\"Overrided methodA in class B\");\n",
    "        return this.varA + this.varB;\n",
    "    }\n",
    "\n",
    "    protected int varB { get; set; }\n",
    "}\n"
   ]
  },
  {
   "cell_type": "code",
   "execution_count": 29,
   "metadata": {
    "dotnet_interactive": {
     "language": "csharp"
    },
    "vscode": {
     "languageId": "dotnet-interactive.csharp"
    }
   },
   "outputs": [],
   "source": [
    "class K : B\n",
    "{\n",
    "    public K()\n",
    "    { \n",
    "        Console.WriteLine(\"Constructor K\");\n",
    "        this.varK = -10;\n",
    "    }\n",
    "    public override int MethodA()\n",
    "    {\n",
    "        Console.WriteLine(\"Overrided MethodA in K\");\n",
    "        return this.varK;\n",
    "    }\n",
    "\n",
    "    ~K() { Trace.WriteLine(\"Destructor K\"); }\n",
    "\n",
    "    protected int varK {set; get;}\n",
    "    \n",
    "}"
   ]
  },
  {
   "cell_type": "code",
   "execution_count": 30,
   "metadata": {
    "dotnet_interactive": {
     "language": "csharp"
    },
    "vscode": {
     "languageId": "dotnet-interactive.csharp"
    }
   },
   "outputs": [
    {
     "name": "stdout",
     "output_type": "stream",
     "text": [
      "Constructor A\r\n",
      "MethodA in class A\r\n",
      "10\r\n",
      "Constructor A\r\n",
      "Constructor B\r\n",
      "Overrided methodA in class B\r\n",
      "25\r\n",
      "Constructor A\r\n",
      "Constructor B\r\n",
      "Constructor K\r\n",
      "Overrided MethodA in K\r\n",
      "-10\r\n"
     ]
    }
   ],
   "source": [
    "// подстановка и замещение\n",
    "A aa = new A();\n",
    "Console.WriteLine(aa.MethodA());\n",
    "aa = new B();\n",
    "Console.WriteLine(aa.MethodA());\n",
    "aa = new K();\n",
    "Console.WriteLine(aa.MethodA());"
   ]
  },
  {
   "cell_type": "code",
   "execution_count": 31,
   "metadata": {
    "dotnet_interactive": {
     "language": "csharp"
    },
    "vscode": {
     "languageId": "dotnet-interactive.csharp"
    }
   },
   "outputs": [
    {
     "name": "stdout",
     "output_type": "stream",
     "text": [
      "Constructor A\r\n",
      "MethodA in class A\r\n"
     ]
    }
   ],
   "source": [
    "{\n",
    "    A ab = new A();\n",
    "    ab.MethodA();\n",
    "}"
   ]
  },
  {
   "cell_type": "code",
   "execution_count": 32,
   "metadata": {
    "dotnet_interactive": {
     "language": "csharp"
    },
    "vscode": {
     "languageId": "dotnet-interactive.csharp"
    }
   },
   "outputs": [
    {
     "ename": "Error",
     "evalue": "(1,1): error CS0103: Имя \"ab\" не существует в текущем контексте.",
     "output_type": "error",
     "traceback": [
      "(1,1): error CS0103: Имя \"ab\" не существует в текущем контексте."
     ]
    }
   ],
   "source": [
    "ab.MethodA();"
   ]
  },
  {
   "cell_type": "markdown",
   "metadata": {},
   "source": [
    "Проверка, является ли ааа объектом определенного класса."
   ]
  },
  {
   "cell_type": "code",
   "execution_count": 33,
   "metadata": {
    "dotnet_interactive": {
     "language": "csharp"
    },
    "vscode": {
     "languageId": "dotnet-interactive.csharp"
    }
   },
   "outputs": [
    {
     "name": "stdout",
     "output_type": "stream",
     "text": [
      "Constructor A\r\n",
      "aaa.GetType() == typeof (A)\r\n",
      "Constructor A\r\n",
      "Constructor B\r\n",
      "aaa.GetType() == typeof (B)\r\n"
     ]
    }
   ],
   "source": [
    "A aaa = new A();\n",
    "if (aaa.GetType() == typeof(A))\n",
    "{   \n",
    "    Console.WriteLine(\"aaa.GetType() == typeof (A)\");\n",
    "}\n",
    "else\n",
    "{\n",
    "    Console.WriteLine(\"aaa.GetType() != typeof (A)\");\n",
    "}\n",
    "aaa = new B();\n",
    "if (aaa.GetType() == typeof(B))   \n",
    "{\n",
    "    Console.WriteLine(\"aaa.GetType() == typeof (B)\");\n",
    "}\n",
    "else\n",
    "{\n",
    "    Console.WriteLine(\"aaa.GetType() != typeof (A)\");\n",
    "}"
   ]
  }
 ],
 "metadata": {
  "kernelspec": {
   "display_name": ".NET (C#)",
   "language": "C#",
   "name": ".net-csharp"
  },
  "language_info": {
   "name": "C#"
  }
 },
 "nbformat": 4,
 "nbformat_minor": 2
}
