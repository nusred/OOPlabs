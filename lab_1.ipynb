{
 "cells": [
  {
   "cell_type": "markdown",
   "metadata": {},
   "source": [
    "# Лабораторная работа №1. \n",
    "# Тема: Агрегация по ссылке\n",
    "\n",
    "\n",
    "## Дано: \n",
    "\n",
    "Граф в виде древовидной иерархической структуры\n",
    "\n",
    "![](images/1_1.png)\n",
    "\n",
    "## Надо:\n",
    "Реализовать агрегацию по ссылке\n",
    "\n",
    "## Как делать? \n",
    "Нужно разобраться, когда применяется агрегация, что такое агрегация по ссылке. И реализовать код по диаграммам.\n",
    "\n",
    "**Отношение агрегация** применяется для создания иерархии \"Целое-часть\". Доступ осуществляется к атрибуту класса через атрибут доступа.\n",
    "\n",
    "**Агрегация по ссылке** — это когда объекты класса А являются целым по отношению к объектам класса В, а объект класса В является частью объекта класса А.\n",
    "\n",
    "Доступ осуществляется к атрибуту класса через атрибут доступа.\n",
    "\n",
    "![](images/1_2.png)\n",
    "\n",
    "Рис 1. Диаграмма классов: агрегация по ссылке \n",
    "\n",
    "![](images/1_3.png)\n",
    "\n",
    "Рис 2. Расположение объектов в оперативной памяти "
   ]
  },
  {
   "cell_type": "markdown",
   "metadata": {},
   "source": [
    "## Классы снизу вверх из-за Jupyter"
   ]
  },
  {
   "cell_type": "code",
   "execution_count": 66,
   "metadata": {
    "dotnet_interactive": {
     "language": "csharp"
    },
    "vscode": {
     "languageId": "dotnet-interactive.csharp"
    }
   },
   "outputs": [],
   "source": [
    "class D\n",
    "{\n",
    "\n",
    "  public D()\n",
    "  {\n",
    "    Console.WriteLine(\"empty const D\");\n",
    "  }\n",
    "\n",
    "  ~D() { }\n",
    "  public void methodD()\n",
    "  {\n",
    "    Console.WriteLine(\"method of D\");\n",
    "  }\n",
    "}"
   ]
  },
  {
   "cell_type": "code",
   "execution_count": 67,
   "metadata": {
    "dotnet_interactive": {
     "language": "csharp"
    },
    "vscode": {
     "languageId": "dotnet-interactive.csharp"
    }
   },
   "outputs": [],
   "source": [
    "class F\n",
    "{\n",
    "\n",
    "  public F()\n",
    "  {\n",
    "    Console.WriteLine(\"empty const F\");\n",
    "  }\n",
    "\n",
    "  ~F() { }\n",
    "  public void methodF()\n",
    "  {\n",
    "    Console.WriteLine(\"method of F\");\n",
    "  }\n",
    "}"
   ]
  },
  {
   "cell_type": "code",
   "execution_count": 68,
   "metadata": {
    "dotnet_interactive": {
     "language": "csharp"
    },
    "vscode": {
     "languageId": "dotnet-interactive.csharp"
    }
   },
   "outputs": [],
   "source": [
    "class K\n",
    "{\n",
    "\n",
    "  public K()\n",
    "  {\n",
    "    Console.WriteLine(\"empty const K\");\n",
    "  }\n",
    "\n",
    "  ~K() { }\n",
    "  public void methodK()\n",
    "  {\n",
    "    Console.WriteLine(\"method of K\");\n",
    "  }\n",
    "}"
   ]
  },
  {
   "cell_type": "code",
   "execution_count": 69,
   "metadata": {
    "dotnet_interactive": {
     "language": "csharp"
    },
    "vscode": {
     "languageId": "dotnet-interactive.csharp"
    }
   },
   "outputs": [],
   "source": [
    "class J\n",
    "{\n",
    "\n",
    "  public J()\n",
    "  {\n",
    "    Console.WriteLine(\"empty const J\");\n",
    "  }\n",
    "\n",
    "  ~J() { }\n",
    "  public void methodJ()\n",
    "  {\n",
    "    Console.WriteLine(\"method of J\");\n",
    "  }\n",
    "}"
   ]
  },
  {
   "cell_type": "code",
   "execution_count": 70,
   "metadata": {
    "dotnet_interactive": {
     "language": "csharp"
    },
    "vscode": {
     "languageId": "dotnet-interactive.csharp"
    }
   },
   "outputs": [],
   "source": [
    "class E\n",
    "{\n",
    "\n",
    "  public E()\n",
    "  {\n",
    "    Console.WriteLine(\"empty const E\");\n",
    "  }\n",
    "\n",
    "  ~E() { }\n",
    "  public void methodE()\n",
    "  {\n",
    "    Console.WriteLine(\"method of E\");\n",
    "  }\n",
    "}"
   ]
  },
  {
   "cell_type": "code",
   "execution_count": 71,
   "metadata": {
    "dotnet_interactive": {
     "language": "csharp"
    },
    "vscode": {
     "languageId": "dotnet-interactive.csharp"
    }
   },
   "outputs": [],
   "source": [
    "class C\n",
    "{\n",
    "\n",
    "  private E e = null;\n",
    "  private F f = null;\n",
    "\n",
    "  public C()\n",
    "  {\n",
    "    Console.WriteLine(\"empty const C\");\n",
    "  }\n",
    "\n",
    "  ~C() { }\n",
    "\n",
    "  public C(E e, F f)\n",
    "  {\n",
    "    this.e = e;\n",
    "    this.f = f;\n",
    "    Console.WriteLine(\"const C\");\n",
    "  }\n",
    "\n",
    "  public E e_C\n",
    "  {\n",
    "    set { Console.WriteLine(\"set e\"); this.e = value; }\n",
    "    get { Console.Write(\"get e -> \"); return this.e; }\n",
    "  }\n",
    "\n",
    "  public F f_C\n",
    "  {\n",
    "    set { Console.WriteLine(\"set f\"); this.f = value; }\n",
    "    get { Console.Write(\"get f -> \"); return this.f; }\n",
    "  }\n",
    "\n",
    "  public void methodC()\n",
    "  {\n",
    "    Console.WriteLine(\"method of C\");\n",
    "  }\n",
    "\n",
    "}\n"
   ]
  },
  {
   "cell_type": "code",
   "execution_count": 72,
   "metadata": {
    "dotnet_interactive": {
     "language": "csharp"
    },
    "vscode": {
     "languageId": "dotnet-interactive.csharp"
    }
   },
   "outputs": [],
   "source": [
    "class B\n",
    "{\n",
    "  private K k = null;\n",
    "  private D d = null;\n",
    "\n",
    "  public B()\n",
    "  {\n",
    "    Console.WriteLine(\"empty const B\");\n",
    "  }\n",
    "\n",
    "  ~B() { }\n",
    "\n",
    "  public B(K k, D d)\n",
    "  {\n",
    "    this.k = k;\n",
    "    this.d = d;\n",
    "    Console.WriteLine(\"const B\");\n",
    "  }\n",
    "\n",
    "  public K k_B\n",
    "  {\n",
    "    set { Console.WriteLine(\"set k\"); this.k = value; }\n",
    "    get { Console.Write(\"get k -> \"); return this.k; }\n",
    "  }\n",
    "\n",
    "  public D d_B\n",
    "  {\n",
    "    set { Console.WriteLine(\"set d\"); this.d = value; }\n",
    "    get { Console.Write(\"get d -> \"); return this.d; }\n",
    "  }\n",
    "\n",
    "  public void methodB()\n",
    "  {\n",
    "    Console.WriteLine(\"method of B\");\n",
    "  }\n",
    "\n",
    "}"
   ]
  },
  {
   "cell_type": "code",
   "execution_count": 73,
   "metadata": {
    "dotnet_interactive": {
     "language": "csharp"
    },
    "vscode": {
     "languageId": "dotnet-interactive.csharp"
    }
   },
   "outputs": [],
   "source": [
    "class A\n",
    "{\n",
    "  private B b = null;\n",
    "  private C c = null;\n",
    "  private J j = null;\n",
    "\n",
    "  public A()\n",
    "  {\n",
    "    Console.WriteLine(\"empty const A\");\n",
    "  }\n",
    "\n",
    "  ~A() { }\n",
    "\n",
    "  public A(B b, C c, J j)\n",
    "  {\n",
    "    this.b = b;\n",
    "    this.c = c;\n",
    "    this.j = j;\n",
    "    Console.WriteLine(\"const A\");\n",
    "  }\n",
    "\n",
    "  public B b_A\n",
    "  {\n",
    "    set { Console.WriteLine(\"set b\"); this.b = value; }\n",
    "    get { Console.Write(\"get b -> \"); return this.b; }\n",
    "  }\n",
    "\n",
    "  public C c_A\n",
    "  {\n",
    "    set { Console.WriteLine(\"set c\"); this.c = value; }\n",
    "    get { Console.Write(\"get c -> \"); return this.c; }\n",
    "  }\n",
    "\n",
    "  public J j_A\n",
    "  {\n",
    "    set { Console.WriteLine(\"set j\"); this.j = value; }\n",
    "    get { Console.Write(\" get j -> \"); return this.j; }\n",
    "  }\n",
    "  \n",
    "  public void methodA()\n",
    "  {\n",
    "    Console.WriteLine(\"method of A\");\n",
    "  }\n",
    "\n",
    "}"
   ]
  },
  {
   "cell_type": "markdown",
   "metadata": {},
   "source": [
    "## Создание объеков"
   ]
  },
  {
   "cell_type": "code",
   "execution_count": 74,
   "metadata": {
    "dotnet_interactive": {
     "language": "csharp"
    },
    "vscode": {
     "languageId": "dotnet-interactive.csharp"
    }
   },
   "outputs": [
    {
     "name": "stdout",
     "output_type": "stream",
     "text": [
      "empty const J\r\n",
      "empty const D\r\n",
      "empty const E\r\n",
      "empty const F\r\n",
      "empty const K\r\n",
      "const B\r\n",
      "const C\r\n",
      "const A\r\n"
     ]
    }
   ],
   "source": [
    "J j = new J();\n",
    "D d = new D();\n",
    "E e = new E();\n",
    "F f = new F();\n",
    "K k = new K();\n",
    "B b = new B(k, d);\n",
    "C c = new C(e, f);\n",
    "A a = new A(b,c,j);\n"
   ]
  },
  {
   "cell_type": "markdown",
   "metadata": {},
   "source": [
    "## Вызов методов"
   ]
  },
  {
   "cell_type": "code",
   "execution_count": 75,
   "metadata": {
    "dotnet_interactive": {
     "language": "csharp"
    },
    "vscode": {
     "languageId": "dotnet-interactive.csharp"
    }
   },
   "outputs": [
    {
     "name": "stdout",
     "output_type": "stream",
     "text": [
      "method of A\r\n",
      "get b -> method of B\r\n",
      "get c -> method of C\r\n",
      " get j -> method of J\r\n",
      "get b -> get k -> method of K\r\n",
      "get b -> get d -> method of D\r\n",
      "get c -> get e -> method of E\r\n",
      "get c -> get f -> method of F\r\n"
     ]
    }
   ],
   "source": [
    "a.methodA();\n",
    "a.b_A.methodB();\n",
    "a.c_A.methodC();\n",
    "a.j_A.methodJ();\n",
    "a.b_A.k_B.methodK();\n",
    "a.b_A.d_B.methodD();\n",
    "a.c_A.e_C.methodE();\n",
    "a.c_A.f_C.methodF();\n",
    "\n"
   ]
  },
  {
   "cell_type": "code",
   "execution_count": 76,
   "metadata": {
    "dotnet_interactive": {
     "language": "csharp"
    },
    "vscode": {
     "languageId": "dotnet-interactive.csharp"
    }
   },
   "outputs": [
    {
     "name": "stdout",
     "output_type": "stream",
     "text": [
      "get c -> get f -> method of F\r\n"
     ]
    }
   ],
   "source": [
    "a.c_A.f_C.methodF();"
   ]
  },
  {
   "cell_type": "markdown",
   "metadata": {},
   "source": [
    "*Передача управления атрибуту доступа cA объекта а класса А, к-ый возвращает ссылку на объект класса C. У него идет передача управления атрибуту доступа fC объекта класса C, к-ый возвращает ссылку на объект класса F. У класса F вызывается метод action_F(), который выводит \"action_F\"*"
   ]
  }
 ],
 "metadata": {
  "kernelspec": {
   "display_name": ".NET (C#)",
   "language": "C#",
   "name": ".net-csharp"
  },
  "language_info": {
   "file_extension": ".cs",
   "mimetype": "text/x-csharp",
   "name": "C#",
   "pygments_lexer": "csharp",
   "version": "9.0"
  },
  "orig_nbformat": 4,
  "vscode": {
   "interpreter": {
    "hash": "c2df80c539aa84d79e6d707b064cb8197eeb4b858bd4ed4f9278cfa227ec00a4"
   }
  }
 },
 "nbformat": 4,
 "nbformat_minor": 2
}
