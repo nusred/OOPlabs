{
 "cells": [
  {
   "cell_type": "markdown",
   "metadata": {},
   "source": [
    "## Лабораторная работа №7\n",
    "\n",
    "### Тема: Использование: Клиент-сервер и клиент-утилита\n",
    "\n",
    "## Дано: \n",
    "\n",
    "![](Images/7_graph.png)\n",
    "\n",
    "Граф в виде древовидной иерархической структуры\n",
    "\n",
    "## Надо:\n",
    "Реализовать отношение \"использование\" между объектами, связь между которыми помечена пунктиром. В данном случае между классом D и E.\n",
    "\n",
    "## Как делать?\n",
    "Использование клиент-сервер. \n",
    "Объекты классов принадлежат этой категории, если объект класса E является сервером по отношению к объекту D. В качестве параметра для метода md объекта d передается объект класса E.\n",
    "\n",
    "![](Images/7_img_1.png)\n",
    "\n",
    "Рис. 1. Использование \"Клиент-сервер\""
   ]
  },
  {
   "cell_type": "markdown",
   "metadata": {},
   "source": [
    "## Клиент-сервер"
   ]
  },
  {
   "cell_type": "markdown",
   "metadata": {},
   "source": [
    "## Сервер"
   ]
  },
  {
   "cell_type": "code",
   "execution_count": 1,
   "metadata": {
    "dotnet_interactive": {
     "language": "csharp"
    },
    "vscode": {
     "languageId": "dotnet-interactive.csharp"
    }
   },
   "outputs": [],
   "source": [
    "class E //server\n",
    "{\n",
    "    public E() {  Console.WriteLine(\"Constr E\"); }\n",
    "    ~E() { Console.WriteLine(\"destr E\"); }\n",
    "    public string fe() { return \"method fe\"; }\n",
    "    public void fs() { Console.WriteLine(\"method fs\"); }\n",
    "    public void me(){ Console.WriteLine(\"Method of E\"); }\n",
    "    public int e { set; get; } = 3;\n",
    "}"
   ]
  },
  {
   "cell_type": "code",
   "execution_count": 2,
   "metadata": {
    "dotnet_interactive": {
     "language": "csharp"
    },
    "vscode": {
     "languageId": "dotnet-interactive.csharp"
    }
   },
   "outputs": [
    {
     "name": "stdout",
     "output_type": "stream",
     "text": [
      "Constr E\r\n",
      "Method of E\r\n",
      "method fs\r\n"
     ]
    }
   ],
   "source": [
    "E e = new E(); \n",
    "e.me();\n",
    "e.fs();"
   ]
  },
  {
   "cell_type": "markdown",
   "metadata": {},
   "source": [
    "## Клиент"
   ]
  },
  {
   "cell_type": "code",
   "execution_count": 3,
   "metadata": {
    "dotnet_interactive": {
     "language": "csharp"
    },
    "vscode": {
     "languageId": "dotnet-interactive.csharp"
    }
   },
   "outputs": [
    {
     "name": "stdout",
     "output_type": "stream",
     "text": [
      "Конструктор D\r\n"
     ]
    }
   ],
   "source": [
    "class D //client\n",
    "{\n",
    "    public D()\n",
    "    {\n",
    "        Console.WriteLine(\"Конструктор D\");\n",
    "    }\n",
    "    ~D() { Console.WriteLine(\"destr D\"); }\n",
    "    public void md(E e) \n",
    "    {\n",
    "        e.me();\n",
    "        Console.WriteLine($\"e.e_atrib + e.fe() = {e.e + 777}\"); //вызов атрибутов класса Е.\n",
    "    }\n",
    "    private int d { set; get; }\n",
    "}\n",
    "D d = new D();"
   ]
  },
  {
   "cell_type": "markdown",
   "metadata": {},
   "source": [
    "## Связь клиента и сервера через метод md класса D. Использование ресурсов сервера E."
   ]
  },
  {
   "cell_type": "code",
   "execution_count": 4,
   "metadata": {
    "dotnet_interactive": {
     "language": "csharp"
    },
    "vscode": {
     "languageId": "dotnet-interactive.csharp"
    }
   },
   "outputs": [
    {
     "name": "stdout",
     "output_type": "stream",
     "text": [
      "Method of E\r\n",
      "e.e_atrib + e.fe() = 780\r\n"
     ]
    }
   ],
   "source": [
    "d.md(e);"
   ]
  },
  {
   "cell_type": "markdown",
   "metadata": {},
   "source": [
    "# Клиент - утилита\n",
    "\n",
    "## Утилита"
   ]
  },
  {
   "cell_type": "code",
   "execution_count": 5,
   "metadata": {
    "dotnet_interactive": {
     "language": "csharp"
    },
    "vscode": {
     "languageId": "dotnet-interactive.csharp"
    }
   },
   "outputs": [],
   "source": [
    "static class E \n",
    "{\n",
    "    public static int fe() { return 665; }\n",
    "    public static void fs() { Console.WriteLine(777); }\n",
    "    public static void me() { Console.WriteLine(\"Method of E\"); }\n",
    "    public static int e { set; get; } = 3;\n",
    "}"
   ]
  },
  {
   "cell_type": "code",
   "execution_count": 6,
   "metadata": {
    "dotnet_interactive": {
     "language": "csharp"
    },
    "vscode": {
     "languageId": "dotnet-interactive.csharp"
    }
   },
   "outputs": [
    {
     "name": "stdout",
     "output_type": "stream",
     "text": [
      "Method of E\r\n"
     ]
    }
   ],
   "source": [
    "E.me();"
   ]
  },
  {
   "cell_type": "code",
   "execution_count": 7,
   "metadata": {
    "dotnet_interactive": {
     "language": "csharp"
    },
    "vscode": {
     "languageId": "dotnet-interactive.csharp"
    }
   },
   "outputs": [
    {
     "name": "stdout",
     "output_type": "stream",
     "text": [
      "Before 3\r\n",
      "After 5\r\n"
     ]
    }
   ],
   "source": [
    "Console.WriteLine($\"Before {E.e}\");\n",
    "E.e= 5;\n",
    "Console.WriteLine($\"After {E.e}\");"
   ]
  },
  {
   "cell_type": "markdown",
   "metadata": {},
   "source": [
    "## Объявление класса F, который наследует D"
   ]
  },
  {
   "cell_type": "code",
   "execution_count": 8,
   "metadata": {
    "dotnet_interactive": {
     "language": "csharp"
    },
    "vscode": {
     "languageId": "dotnet-interactive.csharp"
    }
   },
   "outputs": [],
   "source": [
    "class F : D \n",
    "{\n",
    "    public F() { Console.WriteLine(\"Constr F\"); }\n",
    "    ~F() { Console.WriteLine(\"destr F\"); }\n",
    "    public void md() // параметр - объект класса сервера, сервер и клиент связаны через этот метод.\n",
    "    {\n",
    "        Console.WriteLine(\"Использую утилиту(класс E) \");\n",
    "\n",
    "        Console.WriteLine($\"Е.e + E.fe() + d = {E.fe() + E.e + d}\"); \n",
    "    }\n",
    "    private int d { set; get; } = 1;\n",
    "}"
   ]
  },
  {
   "cell_type": "markdown",
   "metadata": {},
   "source": [
    "### Создание объекта класса F, вызов метода."
   ]
  },
  {
   "cell_type": "code",
   "execution_count": 9,
   "metadata": {
    "dotnet_interactive": {
     "language": "csharp"
    },
    "vscode": {
     "languageId": "dotnet-interactive.csharp"
    }
   },
   "outputs": [
    {
     "name": "stdout",
     "output_type": "stream",
     "text": [
      "Конструктор D\r\n",
      "Constr F\r\n",
      "Использую утилиту(класс E) \r\n",
      "Е.e + E.fe() + d = 671\r\n"
     ]
    }
   ],
   "source": [
    "F f = new F();\n",
    "f.md();"
   ]
  }
 ],
 "metadata": {
  "kernelspec": {
   "display_name": ".NET (C#)",
   "language": "C#",
   "name": ".net-csharp"
  },
  "language_info": {
   "file_extension": ".cs",
   "mimetype": "text/x-csharp",
   "name": "C#",
   "pygments_lexer": "csharp",
   "version": "9.0"
  },
  "orig_nbformat": 4
 },
 "nbformat": 4,
 "nbformat_minor": 2
}
