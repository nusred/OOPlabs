{
 "cells": [
  {
   "cell_type": "markdown",
   "metadata": {},
   "source": [
    "## Лабораторная работа №6\n",
    "\n",
    "### Тема: Ассоциация (один к одному, один ко многим)\n",
    "\n",
    "## Дано: \n",
    "\n",
    "![](Images/6_graph.png)\n",
    "\n",
    "Граф в виде древовидной иерархической структуры\n",
    "\n",
    "## Надо:\n",
    "Реализовать ассоциативную связь(1:1, 1:N) между объектами, связь между которыми помечена. В данном случае между классом D и E.\n",
    "\n",
    "![](Images/6_img_1.png)\n",
    "\n",
    "Рис. 1. Ассоциация вида 1:1\n",
    "\n",
    "![](Images/6_img_2.png)\n",
    "\n",
    "Рис. 2. Ассоциация вида 1:N\n",
    "\n",
    "## Как делать? \n",
    "Разобраться в понятиях ассоциации. И свзяать объекты друг с другом. \\\n",
    "\n",
    "**Ассоциация вида 1:1**  Объекты классов D и E принадлежат ассоциации вида 1:1, если один объект класса D связан только с одним\n",
    "объектом класса E, a этот объект класса E связан с этим же объектом класса D (см. рис. 1)\n",
    "\n",
    "**Ассоциация вида 1:N** . Объекты классов D и E принадлежат категории ассоциации вида 1:N, если один объект класса D связан с N объектами класса E, a каждый объект класса E связан с этим же объектами класса D. (см. рис. 2)"
   ]
  },
  {
   "cell_type": "markdown",
   "metadata": {},
   "source": [
    "## Ассоциация 1:1"
   ]
  },
  {
   "cell_type": "code",
   "execution_count": 1,
   "metadata": {
    "dotnet_interactive": {
     "language": "csharp"
    },
    "vscode": {
     "languageId": "dotnet-interactive.csharp"
    }
   },
   "outputs": [],
   "source": [
    "class D\n",
    "{\n",
    "    public D() { Console.WriteLine(\"Constr D\"); }\n",
    "    ~D() { Console.WriteLine(\"~Destr D\"); }\n",
    "    public E e { set; get; }\n",
    "    public void mD() { Console.WriteLine(\"Method of D\"); }\n",
    "}\n",
    "\n",
    "class E\n",
    "{\n",
    "    public E() { Console.WriteLine(\"Constr E\"); this.k = 1; }\n",
    "    public E(D d) {\n",
    "        Console.WriteLine(\"Constr E(D)\");\n",
    "        this.d = d;\n",
    "        this.k = 1; \n",
    "    }\n",
    "    ~E() { Console.WriteLine(\"~Destr E\"); }\n",
    "    public D d { set; get; }\n",
    "    public void mE() { Console.WriteLine(\"Method of E\"); }\n",
    "    public int k { set; get; }\n",
    "}"
   ]
  },
  {
   "cell_type": "code",
   "execution_count": 2,
   "metadata": {
    "dotnet_interactive": {
     "language": "csharp"
    },
    "vscode": {
     "languageId": "dotnet-interactive.csharp"
    }
   },
   "outputs": [
    {
     "name": "stdout",
     "output_type": "stream",
     "text": [
      "Constr D\r\n",
      "Constr E(D)\r\n"
     ]
    }
   ],
   "source": [
    "D d = new D();\n",
    "E e = new E(d);"
   ]
  },
  {
   "cell_type": "code",
   "execution_count": 3,
   "metadata": {
    "dotnet_interactive": {
     "language": "csharp"
    },
    "vscode": {
     "languageId": "dotnet-interactive.csharp"
    }
   },
   "outputs": [
    {
     "name": "stdout",
     "output_type": "stream",
     "text": [
      "Method of D\r\n",
      "Method of E\r\n"
     ]
    }
   ],
   "source": [
    "d.mD();\n",
    "e.mE();"
   ]
  },
  {
   "cell_type": "markdown",
   "metadata": {},
   "source": [
    "### Связка объектов друг с другом"
   ]
  },
  {
   "cell_type": "code",
   "execution_count": 4,
   "metadata": {
    "dotnet_interactive": {
     "language": "csharp"
    },
    "vscode": {
     "languageId": "dotnet-interactive.csharp"
    }
   },
   "outputs": [],
   "source": [
    "e.d = d;\n",
    "d.e = e;"
   ]
  },
  {
   "cell_type": "markdown",
   "metadata": {},
   "source": [
    "### Вызывание методов классов, атрибутов."
   ]
  },
  {
   "cell_type": "code",
   "execution_count": 5,
   "metadata": {
    "dotnet_interactive": {
     "language": "csharp"
    },
    "vscode": {
     "languageId": "dotnet-interactive.csharp"
    }
   },
   "outputs": [
    {
     "name": "stdout",
     "output_type": "stream",
     "text": [
      "Method of D\r\n",
      "Method of E\r\n"
     ]
    }
   ],
   "source": [
    "d.mD();\n",
    "e.mE();"
   ]
  },
  {
   "cell_type": "code",
   "execution_count": 6,
   "metadata": {
    "dotnet_interactive": {
     "language": "csharp"
    },
    "vscode": {
     "languageId": "dotnet-interactive.csharp"
    }
   },
   "outputs": [
    {
     "name": "stdout",
     "output_type": "stream",
     "text": [
      "Method of D\r\n",
      "Method of E\r\n"
     ]
    }
   ],
   "source": [
    "e.d.mD();\n",
    "d.e.mE();"
   ]
  },
  {
   "cell_type": "code",
   "execution_count": 7,
   "metadata": {
    "dotnet_interactive": {
     "language": "csharp"
    },
    "vscode": {
     "languageId": "dotnet-interactive.csharp"
    }
   },
   "outputs": [
    {
     "name": "stdout",
     "output_type": "stream",
     "text": [
      "d.e.k = 1\r\n",
      "\r\n"
     ]
    }
   ],
   "source": [
    "Console.WriteLine(\"d.e.k = {0}\", d.e.k);\n",
    "e.d.e.k = 2;\n",
    "Console.WriteLine();"
   ]
  },
  {
   "cell_type": "code",
   "execution_count": 8,
   "metadata": {
    "dotnet_interactive": {
     "language": "csharp"
    },
    "vscode": {
     "languageId": "dotnet-interactive.csharp"
    }
   },
   "outputs": [
    {
     "name": "stdout",
     "output_type": "stream",
     "text": [
      "e.d.e.k = 2\r\n",
      "e.d.e.d.e.k = 3\r\n"
     ]
    }
   ],
   "source": [
    "Console.WriteLine(\"e.d.e.k = {0}\", e.d.e.k);\n",
    "e.d.e.d.e.k = 3;\n",
    "Console.WriteLine(\"e.d.e.d.e.k = {0}\", e.d.e.d.e.k);"
   ]
  },
  {
   "cell_type": "markdown",
   "metadata": {},
   "source": [
    "## Ассоциация 1:N"
   ]
  },
  {
   "cell_type": "code",
   "execution_count": 9,
   "metadata": {
    "dotnet_interactive": {
     "language": "csharp"
    },
    "vscode": {
     "languageId": "dotnet-interactive.csharp"
    }
   },
   "outputs": [],
   "source": [
    "class D {\n",
    "    public D(int N) { \n",
    "        Console.WriteLine(\"constr D\");\n",
    "        this.e = new E[N];\n",
    "        this.N = N;\n",
    "     }\n",
    "     ~D() { Console.WriteLine(\"~Destr D\"); }\n",
    "     public void mD() { Console.WriteLine(\"Method of D\"); }\n",
    "\n",
    "     public int N { set; get; }\n",
    "\n",
    "     public E eD {\n",
    "        set {\n",
    "            if (size < N) {\n",
    "                this.e[this.size] = value;\n",
    "                this.size++;\n",
    "            } else Console.WriteLine(\"Error: size >= N\");\n",
    "        }\n",
    "        get { if (this.size > 0) return this.e[--size]; else return null; }\n",
    "     }\n",
    "\n",
    "     public E getNext(int index)\n",
    "            {\n",
    "                if (index < size)\n",
    "                {\n",
    "                    return e[index];\n",
    "                }\n",
    "                return null;\n",
    "            }\n",
    "\n",
    "    public E[] e = null;\n",
    "    private int size = 0;\n",
    "    }\n",
    "\n",
    "class E\n",
    "{\n",
    "    public E() { Console.WriteLine(\"Constr E\"); this.k = 1; }\n",
    "    ~E() { Console.WriteLine(\"~Destr E\"); }\n",
    "    public D d { set; get; }\n",
    "    public void mE() { Console.WriteLine(\"Method of E\"); }\n",
    "    public int k { set; get; }\n",
    "}"
   ]
  },
  {
   "cell_type": "code",
   "execution_count": 10,
   "metadata": {
    "dotnet_interactive": {
     "language": "csharp"
    },
    "vscode": {
     "languageId": "dotnet-interactive.csharp"
    }
   },
   "outputs": [
    {
     "name": "stdout",
     "output_type": "stream",
     "text": [
      "constr D\r\n"
     ]
    },
    {
     "data": {
      "text/html": [
       "<table><thead><tr><th>N</th><th>eD</th><th>e</th></tr></thead><tbody><tr><td><div class=\"dni-plaintext\">5</div></td><td><div class=\"dni-plaintext\">&lt;null&gt;</div></td><td><div class=\"dni-plaintext\">[ &lt;null&gt;, &lt;null&gt;, &lt;null&gt;, &lt;null&gt;, &lt;null&gt; ]</div></td></tr></tbody></table>"
      ]
     },
     "metadata": {},
     "output_type": "display_data"
    }
   ],
   "source": [
    "D d = new D(5);\n",
    "d"
   ]
  },
  {
   "cell_type": "code",
   "execution_count": 11,
   "metadata": {
    "dotnet_interactive": {
     "language": "csharp"
    },
    "vscode": {
     "languageId": "dotnet-interactive.csharp"
    }
   },
   "outputs": [
    {
     "name": "stdout",
     "output_type": "stream",
     "text": [
      "Constr E\r\n"
     ]
    },
    {
     "data": {
      "text/html": [
       "<table><thead><tr><th><i>index</i></th><th>d</th><th>value</th><th>k</th></tr></thead><tbody><tr><td>0</td><td><div class=\"dni-plaintext\">&lt;null&gt;</div></td><td></td><td><div class=\"dni-plaintext\">1</div></td></tr><tr><td>1</td><td></td><td><div class=\"dni-plaintext\">&lt;null&gt;</div></td><td></td></tr><tr><td>2</td><td></td><td><div class=\"dni-plaintext\">&lt;null&gt;</div></td><td></td></tr><tr><td>3</td><td></td><td><div class=\"dni-plaintext\">&lt;null&gt;</div></td><td></td></tr><tr><td>4</td><td></td><td><div class=\"dni-plaintext\">&lt;null&gt;</div></td><td></td></tr></tbody></table>"
      ]
     },
     "metadata": {},
     "output_type": "display_data"
    }
   ],
   "source": [
    "E e1 = new E();\n",
    "d.eD = e1;\n",
    "d.e"
   ]
  },
  {
   "cell_type": "code",
   "execution_count": 12,
   "metadata": {
    "dotnet_interactive": {
     "language": "csharp"
    },
    "vscode": {
     "languageId": "dotnet-interactive.csharp"
    }
   },
   "outputs": [
    {
     "name": "stdout",
     "output_type": "stream",
     "text": [
      "Constr E\r\n"
     ]
    },
    {
     "data": {
      "text/html": [
       "<table><thead><tr><th><i>index</i></th><th>d</th><th>value</th><th>k</th></tr></thead><tbody><tr><td>0</td><td><div class=\"dni-plaintext\">&lt;null&gt;</div></td><td></td><td><div class=\"dni-plaintext\">1</div></td></tr><tr><td>1</td><td></td><td><div class=\"dni-plaintext\">&lt;null&gt;</div></td><td></td></tr><tr><td>2</td><td></td><td><div class=\"dni-plaintext\">&lt;null&gt;</div></td><td></td></tr><tr><td>3</td><td></td><td><div class=\"dni-plaintext\">&lt;null&gt;</div></td><td></td></tr><tr><td>4</td><td></td><td><div class=\"dni-plaintext\">&lt;null&gt;</div></td><td></td></tr></tbody></table>"
      ]
     },
     "metadata": {},
     "output_type": "display_data"
    }
   ],
   "source": [
    "E e3 = new E();\n",
    "d.eD = e3;\n",
    "d.e"
   ]
  },
  {
   "cell_type": "code",
   "execution_count": 13,
   "metadata": {
    "dotnet_interactive": {
     "language": "csharp"
    },
    "vscode": {
     "languageId": "dotnet-interactive.csharp"
    }
   },
   "outputs": [
    {
     "name": "stdout",
     "output_type": "stream",
     "text": [
      "Constr E\r\n"
     ]
    },
    {
     "data": {
      "text/html": [
       "<table><thead><tr><th><i>index</i></th><th>d</th><th>value</th><th>k</th></tr></thead><tbody><tr><td>0</td><td><div class=\"dni-plaintext\">&lt;null&gt;</div></td><td></td><td><div class=\"dni-plaintext\">1</div></td></tr><tr><td>1</td><td><div class=\"dni-plaintext\">&lt;null&gt;</div></td><td></td><td><div class=\"dni-plaintext\">1</div></td></tr><tr><td>2</td><td></td><td><div class=\"dni-plaintext\">&lt;null&gt;</div></td><td></td></tr><tr><td>3</td><td></td><td><div class=\"dni-plaintext\">&lt;null&gt;</div></td><td></td></tr><tr><td>4</td><td></td><td><div class=\"dni-plaintext\">&lt;null&gt;</div></td><td></td></tr></tbody></table>"
      ]
     },
     "metadata": {},
     "output_type": "display_data"
    }
   ],
   "source": [
    "E e4 = new E();\n",
    "d.eD = e4;\n",
    "d.e"
   ]
  },
  {
   "cell_type": "code",
   "execution_count": null,
   "metadata": {
    "dotnet_interactive": {
     "language": "csharp"
    },
    "vscode": {
     "languageId": "dotnet-interactive.csharp"
    }
   },
   "outputs": [],
   "source": [
    "e1.d = d;\n",
    "e1.d.mD();"
   ]
  },
  {
   "cell_type": "code",
   "execution_count": 14,
   "metadata": {
    "dotnet_interactive": {
     "language": "csharp"
    },
    "vscode": {
     "languageId": "dotnet-interactive.csharp"
    }
   },
   "outputs": [
    {
     "name": "stdout",
     "output_type": "stream",
     "text": [
      "Method of D\r\n",
      "Method of D\r\n",
      "Method of D\r\n"
     ]
    }
   ],
   "source": [
    "e2.d = d;\n",
    "e3.d = d;\n",
    "e4.d = d;\n",
    "\n",
    "e2.d.mD();\n",
    "e3.d.mD();\n",
    "e4.d.mD();"
   ]
  },
  {
   "cell_type": "code",
   "execution_count": 17,
   "metadata": {
    "dotnet_interactive": {
     "language": "csharp"
    },
    "vscode": {
     "languageId": "dotnet-interactive.csharp"
    }
   },
   "outputs": [
    {
     "name": "stdout",
     "output_type": "stream",
     "text": [
      "Method of E\r\n",
      "Method of E\r\n"
     ]
    },
    {
     "ename": "Error",
     "evalue": "System.NullReferenceException: Object reference not set to an instance of an object.\r\n   at Submission#18.<<Initialize>>d__0.MoveNext()\r\n--- End of stack trace from previous location ---\r\n   at Microsoft.CodeAnalysis.Scripting.ScriptExecutionState.RunSubmissionsAsync[TResult](ImmutableArray`1 precedingExecutors, Func`2 currentExecutor, StrongBox`1 exceptionHolderOpt, Func`2 catchExceptionOpt, CancellationToken cancellationToken)",
     "output_type": "error",
     "traceback": [
      "System.NullReferenceException: Object reference not set to an instance of an object.\r\n",
      "   at Submission#18.<<Initialize>>d__0.MoveNext()\r\n",
      "--- End of stack trace from previous location ---\r\n",
      "   at Microsoft.CodeAnalysis.Scripting.ScriptExecutionState.RunSubmissionsAsync[TResult](ImmutableArray`1 precedingExecutors, Func`2 currentExecutor, StrongBox`1 exceptionHolderOpt, Func`2 catchExceptionOpt, CancellationToken cancellationToken)"
     ]
    }
   ],
   "source": [
    "d.e[0].mE();\n",
    "d.e[1].mE();\n",
    "d.e[2].mE();"
   ]
  }
 ],
 "metadata": {
  "kernelspec": {
   "display_name": ".NET (C#)",
   "language": "C#",
   "name": ".net-csharp"
  },
  "language_info": {
   "file_extension": ".cs",
   "mimetype": "text/x-csharp",
   "name": "C#",
   "pygments_lexer": "csharp",
   "version": "9.0"
  },
  "orig_nbformat": 4
 },
 "nbformat": 4,
 "nbformat_minor": 2
}
